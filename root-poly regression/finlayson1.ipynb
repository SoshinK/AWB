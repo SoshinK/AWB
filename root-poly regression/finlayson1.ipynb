{
 "cells": [
  {
   "cell_type": "code",
   "execution_count": 1,
   "metadata": {},
   "outputs": [],
   "source": [
    "import numpy as np\n",
    "import minimg as mg\n",
    "from sklearn.linear_model import LinearRegression\n",
    "from sklearn.model_selection import LeaveOneOut\n",
    "from math import factorial\n",
    "import json\n",
    "import matplotlib.pyplot as plt\n",
    "%matplotlib inline"
   ]
  },
  {
   "cell_type": "code",
   "execution_count": 2,
   "metadata": {},
   "outputs": [],
   "source": [
    "def XYZ_to_RGB(XYZ):\n",
    "    XYZ_to_RGB = np.array([[0.41847, -0.15866, -0.082835],\n",
    "                            [-0.091169, 0.25243, 0.015708],\n",
    "                            [0.000920, -0.002549, 0.17860]])\n",
    "    return np.dot(XYZ_to_RGB, XYZ)\n",
    "\n",
    "def C_sRGB(C_lin):\n",
    "    if C_lin <= 0.0031308:\n",
    "        return 12.92 * C_lin\n",
    "    else: return 1.055 * C_lin ** (1 / 2.4) - 0.055\n",
    "\n",
    "def RGB_to_sRGB(RGB):\n",
    "    return np.array([C_sRGB(RGB[0]), C_sRGB(RGB[1]), C_sRGB(RGB[2])])\n",
    "\n",
    "def XYZ_to_LMS(XYZ):\n",
    "    XYZ_to_LMS = np.array([[0.38971, 0.68898, -0.07868],\n",
    "                          [-0.22981, 1.18340, 0.04641],\n",
    "                          [0.0, 0.0, 1.0]])\n",
    "    return np.dot(XYZ_to_LMS, XYZ)"
   ]
  },
  {
   "cell_type": "code",
   "execution_count": 3,
   "metadata": {},
   "outputs": [],
   "source": [
    "# взято из https://books.google.ru/books?id=U8jeh1uhSHgC&pg=PA167&lpg=PA167&dq=cieluv+un+vn&source=bl&ots=SV9nETcTgT&sig=ACfU3U1KpRKswHA1dO8FsjqbNdO8PxoaPg&hl=ru&sa=X&ved=2ahUKEwjI447Jo7DlAhX18KYKHSXQA5gQ6AEwAnoECAgQAQ#v=onepage&q=cieluv%20un%20vn&f=false\n",
    "XYZ_WHITE_POINT_D65_X = 95.04#0.3127\n",
    "XYZ_WHITE_POINT_D65_Y = 100.0#0.329\n",
    "XYZ_WHITE_POINT_D65_Z = 108.89\n",
    "CIELUV_D65_u_stick_n = 0.1978\n",
    "CIELUV_D65_v_stick_n = 0.4683\n",
    "\n",
    "WHITEPOINTRGB = [2754.907432227824, 2905.2600332985335, 3118.0681991097817]\n"
   ]
  },
  {
   "cell_type": "code",
   "execution_count": 4,
   "metadata": {},
   "outputs": [],
   "source": [
    "def XYZ_to_CIELUV(c, whitePoint):\n",
    "    L_star, u_star, v_star = 0, 0, 0\n",
    "    X, Y, Z = c[0], c[1], c[2]\n",
    "    X_n, Y_n, Z_n = whitePoint[0], whitePoint[1], whitePoint[2]\n",
    "    \n",
    "    u_stick_n = 4 * X_n / (X_n + 15 * Y_n + 3 * Z_n)\n",
    "    v_stick_n = 9 * X_n / (X_n + 15 * Y_n + 3 * Z_n)\n",
    "    \n",
    "    if Y / XYZ_WHITE_POINT_D65_Y <= (6 / 29) ** 3:\n",
    "        L_star = (29 / 3) ** 3 * Y / Y_n\n",
    "    else:\n",
    "        L_star = 116 * (Y / Y_n) ** (1 / 3) - 16\n",
    "    \n",
    "    u_stick = 4 * X / (X + 15 * Y + 3 * Z)\n",
    "    v_stick = 9 * Y / (X + 15 * Y + 3 * Z)\n",
    "    \n",
    "    u_star = 13 * L_star * (u_stick - u_stick_n)\n",
    "    v_star = 13 * L_star * (v_stick - v_stick_n)\n",
    "    \n",
    "    return np.array([L_star, u_star, v_star])\n",
    "\n",
    "def CIELUV_DeltaE_from_XYZ(XYZ1, XYZ2, whitePoint):\n",
    "    return np.linalg.norm(XYZ_to_CIELUV(XYZ1, whitePoint) - XYZ_to_CIELUV(XYZ2, whitePoint))"
   ]
  },
  {
   "cell_type": "code",
   "execution_count": 5,
   "metadata": {},
   "outputs": [],
   "source": [
    "patch_spectras = ['Dark Skin.reflect', 'Light Skin.reflect', 'Blue Sky.reflect',\n",
    "                 'Foilage.reflect', 'Blue Flower.reflect', 'Bluish Green.reflect',\n",
    "                 'Orange.reflect', 'Purplish Blue.reflect', 'Moderate Red.reflect',\n",
    "                 'Purple.reflect', 'Yellow Green.reflect', 'Orange Yellow.reflect',\n",
    "                 'Blue.reflect', 'Green.reflect', 'Red.reflect',\n",
    "                 'Yellow.reflect', 'Magenta.reflect', 'Cyan.reflect',\n",
    "                 'White.reflect', 'Neutral-8.reflect', 'Neutral-6.5.reflect',\n",
    "                 'Neutral-5.reflect', 'Neutral-3.5.reflect', 'Black.reflect']"
   ]
  },
  {
   "cell_type": "code",
   "execution_count": 6,
   "metadata": {},
   "outputs": [],
   "source": [
    "x = np.linspace(380, 780, 101)\n",
    "\n",
    "#D65 source\n",
    "src = np.loadtxt(\"./d65.illum\")\n",
    "x_src = np.linspace(300, 830, 531)\n",
    "src = np.interp(x, x_src, src)\n",
    "D65 = np.diag(src)\n",
    "\n",
    "#XYZ spectral sensitivities\n",
    "f = open('camera.kinect1.json', 'r')\n",
    "xyz_dict = json.load(f)\n",
    "XYZ_R = np.array(xyz_dict['sensitivities']['red'])[:, 1]\n",
    "XYZ_G = np.array(xyz_dict['sensitivities']['green'])[:, 1]\n",
    "XYZ_B = np.array(xyz_dict['sensitivities']['blue'])[:, 1]\n",
    "x_XYZ = np.linspace(365, 830, 94) \n",
    "sens_XYZ_R = np.interp(x, x_XYZ, XYZ_R)\n",
    "sens_XYZ_G = np.interp(x, x_XYZ, XYZ_G)\n",
    "sens_XYZ_B = np.interp(x, x_XYZ, XYZ_B)\n",
    "\n",
    "#RGB camera sensitivities\n",
    "cam_R, cam_G, cam_B = np.loadtxt(\"cam_R.spect\"), np.loadtxt(\"cam_G.spect\"), np.loadtxt(\"cam_B.spect\")\n",
    "x_RGB = np.linspace(380, 784, 101)\n",
    "sens_RGB_R = np.interp(x, x_RGB, cam_R)\n",
    "sens_RGB_G = np.interp(x, x_RGB, cam_G)\n",
    "sens_RGB_B = np.interp(x, x_RGB, cam_B)\n",
    "\n",
    "\n",
    "colorsXYZ = []\n",
    "for patch in patch_spectras:\n",
    "    refl = np.loadtxt(\"./patches/\" + patch)\n",
    "    X = np.dot(np.dot(sens_XYZ_R.T, D65), refl)\n",
    "    Y = np.dot(np.dot(sens_XYZ_G.T, D65), refl)\n",
    "    Z = np.dot(np.dot(sens_XYZ_B.T, D65), refl)\n",
    "    c = np.array([X, Y, Z])\n",
    "    colorsXYZ.append(c)\n",
    "colorsXYZ = np.array(colorsXYZ)\n",
    "\n",
    "colorsRGB = []\n",
    "for patch in patch_spectras:\n",
    "    refl = np.loadtxt(\"./patches/\" + patch)\n",
    "    R = np.dot(np.dot(sens_RGB_R.T, D65), refl)\n",
    "    G = np.dot(np.dot(sens_RGB_G.T, D65), refl)\n",
    "    B = np.dot(np.dot(sens_RGB_B.T, D65), refl)\n",
    "    c = np.array([R, G, B])\n",
    "    colorsRGB.append(c)\n",
    "colorsRGB = np.array(colorsRGB)"
   ]
  },
  {
   "cell_type": "code",
   "execution_count": 9,
   "metadata": {},
   "outputs": [
    {
     "name": "stdout",
     "output_type": "stream",
     "text": [
      "White point:  2754.907432227824 2905.2600332985335 3118.0681991097817\n"
     ]
    }
   ],
   "source": [
    "X_WHITE = np.dot(sens_XYZ_R.T, src)\n",
    "Y_WHITE = np.dot(sens_XYZ_G.T, src)\n",
    "Z_WHITE = np.dot(sens_XYZ_B.T, src)\n",
    "print(\"White point: \", X_WHITE, Y_WHITE, Z_WHITE)\n",
    "WHITE_POINT_XYZ_D65 = [X_WHITE, Y_WHITE, Z_WHITE]"
   ]
  },
  {
   "cell_type": "code",
   "execution_count": 10,
   "metadata": {},
   "outputs": [],
   "source": [
    "TERMS_P1 = np.array([[1, 0, 0], [0, 1, 0], [0, 0, 1]])\n",
    "TERMS_P2 = np.concatenate((TERMS_P1, np.array([[1 / 2, 1 / 2, 0], \n",
    "                                             [1 / 2, 0, 1 / 2], \n",
    "                                   [0, 1 / 2, 1 / 2]])))\n",
    "TERMS_P3 = np.concatenate((TERMS_P2, np.array([ [1 / 3, 2 / 3, 0], \n",
    "                                             [0, 1 / 3, 2 / 3], \n",
    "                                             [1 / 3, 0, 2 / 3], \n",
    "                                             [2 / 3, 1 / 3, 0], \n",
    "                                             [0, 2 / 3, 1 / 3], \n",
    "                                             [2 / 3, 0, 1 / 3], \n",
    "                                             [1 / 3, 1 / 3, 1 / 3] ])))\n",
    "TERMS_P4 = np.concatenate((TERMS_P3, np.array([ [3 / 4, 1 / 4, 0],\n",
    "                                            [3 / 4, 0, 1 / 4],\n",
    "                                            [1 / 4, 3 / 4, 0],\n",
    "                                            [0, 3 / 4, 1 / 4],\n",
    "                                            [1 / 4, 0, 3 / 4],\n",
    "                                            [0, 1 / 4, 3 / 4],\n",
    "                                            [2 / 4, 1 / 4, 1 / 4],\n",
    "                                            [1 / 4, 2 / 4, 1 / 4],\n",
    "                                            [1 / 4, 1 / 4, 2 / 4] ])))\n",
    "POLYTERMS = np.array([TERMS_P1, TERMS_P2, TERMS_P3, TERMS_P4])"
   ]
  },
  {
   "cell_type": "code",
   "execution_count": 14,
   "metadata": {},
   "outputs": [],
   "source": [
    "#! Input:\n",
    "#!     X - array 3xN\n",
    "#!     power - power of polynoms\n",
    "#! Output:\n",
    "#!     PxN array, where P - amount of root-polynomial terms\n",
    "def get_rp_features(X, power):\n",
    "    terms = POLYTERMS[0]\n",
    "    if power == 2: terms = POLYTERMS[1]\n",
    "    if power == 3: terms = POLYTERMS[2]\n",
    "    if power == 4: terms = POLYTERMS[3]\n",
    "    features = []\n",
    "    for term in terms:\n",
    "        #print(\"term: \", term)\n",
    "        a = np.power(X.T, term)\n",
    "        #print(\"a: \", a)\n",
    "        b = np.prod(a, axis = 1)\n",
    "        #print(\"b: \", b)\n",
    "        features.append(b)\n",
    "    return np.array(features)\n",
    "\n",
    "def q_rp_features(power):\n",
    "    if power == 2: return 6\n",
    "    if power == 3: return 13\n",
    "    if power == 4: return 22\n",
    "    else: return 3"
   ]
  },
  {
   "cell_type": "code",
   "execution_count": 15,
   "metadata": {},
   "outputs": [],
   "source": [
    "power = 1"
   ]
  },
  {
   "cell_type": "code",
   "execution_count": 16,
   "metadata": {},
   "outputs": [
    {
     "name": "stdout",
     "output_type": "stream",
     "text": [
      "R shape:  (3, 24)\n",
      "Q shape:  (3, 24)\n",
      "(24, 3)\n"
     ]
    }
   ],
   "source": [
    "R = colorsRGB.T\n",
    "R = get_rp_features(R, power)\n",
    "Q = colorsXYZ.T\n",
    "print(\"R shape: \", R.shape)\n",
    "print(\"Q shape: \", Q.shape)\n",
    "\n",
    "y_r = Q[0]\n",
    "y_g = Q[1]\n",
    "y_b = Q[2]\n",
    "X = R.T\n",
    "print(X.shape)"
   ]
  },
  {
   "cell_type": "code",
   "execution_count": 17,
   "metadata": {
    "scrolled": false
   },
   "outputs": [
    {
     "name": "stdout",
     "output_type": "stream",
     "text": [
      "=========\n",
      "gt: [318.9394091  289.27117144 205.44411305]\n",
      "pred:  [324.00806775 287.5433957  205.07261581]\n",
      "A*raw: [322.73504656 294.12028048 215.5657443 ]\n",
      "2.380436194282813\n",
      "=========\n",
      "gt: [1001.45874109  945.74111229  709.30746042]\n",
      "pred:  [1014.91938333  956.15005214  713.68945643]\n",
      "A*raw: [1013.95559181  962.40554533  724.08260545]\n",
      "0.8204729746290625\n",
      "=========\n",
      "gt: [489.78028242 536.60625771 939.30494455]\n",
      "pred:  [487.60000034 531.24742101 950.00749811]\n",
      "A*raw: [486.94894442 537.94501609 959.88018231]\n",
      "1.4950985926287856\n",
      "=========\n",
      "gt: [283.36297245 344.62853133 193.60818096]\n",
      "pred:  [279.5607398  344.83160499 188.52793275]\n",
      "A*raw: [279.21538224 351.21432543 199.55148144]\n",
      "1.4081556847233576\n",
      "=========\n",
      "gt: [ 676.89070139  669.4389975  1200.66611555]\n",
      "pred:  [ 683.17680273  674.39118089 1209.70213105]\n",
      "A*raw: [ 682.2741643   680.69203725 1219.9676369 ]\n",
      "0.2946193352909636\n",
      "=========\n",
      "gt: [ 872.95120847 1180.29327278 1194.0041255 ]\n",
      "pred:  [ 885.92621649 1183.50580612 1204.16243649]\n",
      "A*raw: [ 884.77814934 1189.81758077 1214.32265077]\n",
      "1.601543644311686\n",
      "=========\n",
      "gt: [999.27634865 795.87049562 211.63347314]\n",
      "pred:  [1015.047381    777.58798923  206.59472119]\n",
      "A*raw: [1013.86011163  784.47717486  217.1843119 ]\n",
      "7.7507885162556205\n",
      "=========\n",
      "gt: [ 380.75745584  365.4015173  1032.75991716]\n",
      "pred:  [ 374.13460066  354.30981601 1019.62041288]\n",
      "A*raw: [ 373.7308758   361.32853399 1030.80322427]\n",
      "1.249972056573122\n",
      "=========\n",
      "gt: [759.05026763 542.49706991 420.69895798]\n",
      "pred:  [758.88614179 557.45125677 426.00788759]\n",
      "A*raw: [758.12254753 563.27856997 436.25891647]\n",
      "4.143955849332856\n",
      "=========\n",
      "gt: [250.61123706 203.02932777 438.36746551]\n",
      "pred:  [247.8015825  206.73580518 452.51958984]\n",
      "A*raw: [247.29220286 212.79747411 461.66341885]\n",
      "2.8299462469427996\n",
      "=========\n",
      "gt: [ 952.76198636 1173.21388798  325.80137321]\n",
      "pred:  [ 940.50545349 1184.69052754  323.49892643]\n",
      "A*raw: [ 940.50972742 1190.37097545  334.10062199]\n",
      "3.891335809343834\n",
      "=========\n",
      "gt: [1249.3971902  1126.04704323  248.16670635]\n",
      "pred:  [1241.90681094 1097.32798096  246.78818365]\n",
      "A*raw: [1241.22866495 1104.08532341  257.2613332 ]\n",
      "4.065805917689329\n",
      "=========\n",
      "gt: [227.74324156 196.62725482 782.40297931]\n",
      "pred:  [217.34332211 176.87553644 750.0912742 ]\n",
      "A*raw: [217.40700406 184.86416139 763.13752251]\n",
      "3.211730347000426\n",
      "=========\n",
      "gt: [448.75210787 655.6286731  293.03455874]\n",
      "pred:  [435.91022288 665.21033697 292.23255078]\n",
      "A*raw: [436.49966423 670.601465   302.77370356]\n",
      "4.976982704932602\n",
      "=========\n",
      "gt: [529.71842719 336.53734171 181.61794445]\n",
      "pred:  [522.39743328 358.266112   175.05960618]\n",
      "A*raw: [522.16674793 363.07100002 185.9989397 ]\n",
      "10.196925865930467\n",
      "=========\n",
      "gt: [1551.30984448 1598.06734834  285.99220386]\n",
      "pred:  [1556.70447508 1598.2936628   280.15382007]\n",
      "A*raw: [1555.93966394 1604.69927484  290.60452661]\n",
      "0.9618786544947195\n",
      "=========\n",
      "gt: [770.33560082 547.54950919 849.95598537]\n",
      "pred:  [761.8277589  573.84002563 861.66286921]\n",
      "A*raw: [761.20458614 579.79189312 871.91717351]\n",
      "7.91016741174802\n",
      "=========\n",
      "gt: [ 431.91096526  609.18798714 1082.80309541]\n",
      "pred:  [ 449.09081053  607.87353287 1076.53964053]\n",
      "A*raw: [ 447.27607513  614.35886865 1087.37681015]\n",
      "3.8882515415610475\n",
      "=========\n",
      "gt: [2380.79573037 2520.09676426 2601.00944146]\n",
      "pred:  [2364.85667114 2517.25530867 2564.99971195]\n",
      "A*raw: [2361.2685925  2523.15831591 2569.08919008]\n",
      "1.5665517488659226\n",
      "=========\n",
      "gt: [1579.63414989 1665.63105024 1776.7722003 ]\n",
      "pred:  [1577.87514447 1664.40408666 1788.53654691]\n",
      "A*raw: [1576.97323759 1670.71743161 1799.87541386]\n",
      "0.6860355429670401\n",
      "=========\n",
      "gt: [ 985.88558922 1037.53027828 1105.80798251]\n",
      "pred:  [ 987.41519575 1035.1140226  1119.8312996 ]\n",
      "A*raw: [ 986.63809243 1041.5307369  1130.2218726 ]\n",
      "1.1324809789395132\n",
      "=========\n",
      "gt: [554.08686204 583.38131725 636.31506322]\n",
      "pred:  [556.13974707 579.68334086 645.63046299]\n",
      "A*raw: [555.24148216 586.31989863 655.50441255]\n",
      "1.5556440472041757\n",
      "=========\n",
      "gt: [272.32453864 286.37371819 307.91985194]\n",
      "pred:  [274.07249923 281.11144134 308.43766985]\n",
      "A*raw: [273.12488327 288.05173937 318.84129066]\n",
      "2.307537714965917\n",
      "=========\n",
      "gt: [83.89851034 87.746245   96.32400599]\n",
      "pred:  [85.15757888 81.18110092 88.88432274]\n",
      "A*raw: [ 84.22707155  88.42374776 100.28935832]\n",
      "4.725181965695525\n",
      "!mean:  3.1271458060962325\n"
     ]
    }
   ],
   "source": [
    "LOO = LeaveOneOut()\n",
    "err = 0\n",
    "for train_index, test_index in LOO.split(X):\n",
    "    #print(\"TRAIN:\", train_index, \"TEST:\", test_index)\n",
    "    X_train, X_test = X[train_index], X[test_index]\n",
    "    y_r_train, y_r_test = y_r[train_index], y_r[test_index]\n",
    "    y_g_train, y_g_test = y_g[train_index], y_g[test_index]\n",
    "    y_b_train, y_b_test = y_b[train_index], y_b[test_index]\n",
    "    clsfR = LinearRegression()\n",
    "    clsfG = LinearRegression()\n",
    "    clsfB = LinearRegression()\n",
    "    clsfR.fit(X_train, y_r_train)\n",
    "    clsfG.fit(X_train, y_g_train)\n",
    "    clsfB.fit(X_train, y_b_train)\n",
    "    \n",
    "    prR = clsfR.predict(X_test)\n",
    "    prG = clsfG.predict(X_test)\n",
    "    prB = clsfB.predict(X_test)\n",
    "    \n",
    "    A = np.zeros((3, q_rp_features(power)))\n",
    "    A[0] = clsfR.coef_\n",
    "    A[1] = clsfG.coef_\n",
    "    A[2] = clsfB.coef_\n",
    "    \n",
    "    #print(A)\n",
    "    \n",
    "    pred = np.array([prR[0], prG[0], prB[0]])\n",
    "    gt = np.array([y_r_test[0], y_g_test[0], y_b_test[0],])\n",
    "    print(\"=========\")\n",
    "    print(\"gt:\", gt)\n",
    "    print(\"pred: \", pred)\n",
    "    print(\"A*raw:\", np.dot(A, X_test[0]))\n",
    "    #ang = 180 * np.arccos(np.round(np.dot(pred, gt) / np.linalg.norm(pred) / np.linalg.norm(gt), 8)) / np.pi\n",
    "    DeltaE = CIELUV_DeltaE_from_XYZ(pred, gt, WHITE_POINT_XYZ_D65)\n",
    "    print(DeltaE)\n",
    "    err += DeltaE\n",
    "print(\"!mean: \", err / 24)"
   ]
  },
  {
   "cell_type": "code",
   "execution_count": 18,
   "metadata": {},
   "outputs": [
    {
     "data": {
      "text/plain": [
       "array([37.25444054,  2.19548136, 10.60467849])"
      ]
     },
     "execution_count": 18,
     "metadata": {},
     "output_type": "execute_result"
    }
   ],
   "source": [
    "a = XYZ_to_CIELUV(np.array([274.07249923, 281.11144134, 308.43766985]), WHITE_POINT_XYZ_D65)\n",
    "a"
   ]
  },
  {
   "cell_type": "code",
   "execution_count": 19,
   "metadata": {},
   "outputs": [
    {
     "data": {
      "text/plain": [
       "array([37.58468789,  0.23079971, 11.7690208 ])"
      ]
     },
     "execution_count": 19,
     "metadata": {},
     "output_type": "execute_result"
    }
   ],
   "source": [
    "b = XYZ_to_CIELUV(np.array([272.32453864, 286.37371819, 307.91985194]), WHITE_POINT_XYZ_D65)\n",
    "b"
   ]
  },
  {
   "cell_type": "code",
   "execution_count": 20,
   "metadata": {},
   "outputs": [
    {
     "data": {
      "text/plain": [
       "<matplotlib.image.AxesImage at 0x7f1b07970f60>"
      ]
     },
     "execution_count": 20,
     "metadata": {},
     "output_type": "execute_result"
    },
    {
     "data": {
      "image/png": "[encoded data removed]",
      "text/plain": [
       "<Figure size 432x288 with 1 Axes>"
      ]
     },
     "metadata": {
      "needs_background": "light"
     },
     "output_type": "display_data"
    }
   ],
   "source": [
    "a = np.zeros((8, 8, 3))\n",
    "a[:, :] = WHITE_POINT_XYZ_D65\n",
    "plt.imshow(a / np.array(a))"
   ]
  },
  {
   "cell_type": "code",
   "execution_count": null,
   "metadata": {},
   "outputs": [],
   "source": []
  }
 ],
 "metadata": {
  "kernelspec": {
   "display_name": "Python 3",
   "language": "python",
   "name": "python3"
  },
  "language_info": {
   "codemirror_mode": {
    "name": "ipython",
    "version": 3
   },
   "file_extension": ".py",
   "mimetype": "text/x-python",
   "name": "python",
   "nbconvert_exporter": "python",
   "pygments_lexer": "ipython3",
   "version": "3.7.3"
  }
 },
 "nbformat": 4,
 "nbformat_minor": 2
}
