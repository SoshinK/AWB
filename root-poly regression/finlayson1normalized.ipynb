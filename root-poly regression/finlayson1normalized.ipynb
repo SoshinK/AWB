{
 "cells": [
  {
   "cell_type": "code",
   "execution_count": 1,
   "metadata": {},
   "outputs": [],
   "source": [
    "import numpy as np\n",
    "import json\n",
    "import matplotlib.pyplot as plt\n",
    "from cieluv import *\n",
    "from RootPolyRegression import *\n",
    "%matplotlib inline"
   ]
  },
  {
   "cell_type": "code",
   "execution_count": 2,
   "metadata": {},
   "outputs": [],
   "source": [
    "patch_spectras = ['Dark Skin.reflect', 'Light Skin.reflect', 'Blue Sky.reflect',\n",
    "                 'Foilage.reflect', 'Blue Flower.reflect', 'Bluish Green.reflect',\n",
    "                 'Orange.reflect', 'Purplish Blue.reflect', 'Moderate Red.reflect',\n",
    "                 'Purple.reflect', 'Yellow Green.reflect', 'Orange Yellow.reflect',\n",
    "                 'Blue.reflect', 'Green.reflect', 'Red.reflect',\n",
    "                 'Yellow.reflect', 'Magenta.reflect', 'Cyan.reflect',\n",
    "                 'White.reflect', 'Neutral-8.reflect', 'Neutral-6.5.reflect',\n",
    "                 'Neutral-5.reflect', 'Neutral-3.5.reflect', 'Black.reflect']"
   ]
  },
  {
   "cell_type": "code",
   "execution_count": 3,
   "metadata": {},
   "outputs": [],
   "source": [
    "def LOO(Q, R, whitepoint):\n",
    "    err = 0\n",
    "    \n",
    "    for i in range(R.shape[1]):\n",
    "        \n",
    "        # i-ый объект на тесте, остальные на трейне\n",
    "        Q_train = np.concatenate((Q[:, :i], Q[:, (i+1):]), axis=1)\n",
    "        R_train = np.concatenate((R[:, :i], R[:, (i+1):]), axis=1)\n",
    "        Q_test = Q[:, i]\n",
    "        R_test = R[:, i]\n",
    "        \n",
    "        # fitting\n",
    "        A = np.dot(np.dot(Q_train, R_train.T), np.linalg.inv(np.dot(R_train, R_train.T)))\n",
    "        \n",
    "        # score on test object\n",
    "        err += CIELUV_DeltaE_from_XYZ(np.dot(A, R_test), Q_test, whitepoint)\n",
    "        \n",
    "    return err / 24"
   ]
  },
  {
   "cell_type": "code",
   "execution_count": 4,
   "metadata": {},
   "outputs": [],
   "source": [
    "x = np.linspace(380, 780, 101)\n",
    "\n",
    "# D65 source\n",
    "src = np.loadtxt(\"./d65.illum\")\n",
    "x_src = np.linspace(300, 830, 531)\n",
    "src = np.interp(x, x_src, src)\n",
    "D65 = np.diag(src)\n",
    "\n",
    "# XYZ spectral sensitivities\n",
    "f = open('camera.kinect1.json', 'r')\n",
    "xyz_dict = json.load(f)\n",
    "XYZ_R = np.array(xyz_dict['sensitivities']['red'])[:, 1]\n",
    "XYZ_G = np.array(xyz_dict['sensitivities']['green'])[:, 1]\n",
    "XYZ_B = np.array(xyz_dict['sensitivities']['blue'])[:, 1]\n",
    "x_XYZ = np.linspace(365, 830, 94) \n",
    "sens_XYZ_R = np.interp(x, x_XYZ, XYZ_R)\n",
    "sens_XYZ_G = np.interp(x, x_XYZ, XYZ_G)\n",
    "sens_XYZ_B = np.interp(x, x_XYZ, XYZ_B)\n",
    "\n",
    "# RGB camera sensitivities\n",
    "cam_R, cam_G, cam_B = np.loadtxt(\"cam_R.spect\"), np.loadtxt(\"cam_G.spect\"), np.loadtxt(\"cam_B.spect\")\n",
    "x_RGB = np.linspace(380, 784, 101)\n",
    "sens_RGB_R = np.interp(x, x_RGB, cam_R)\n",
    "sens_RGB_G = np.interp(x, x_RGB, cam_G)\n",
    "sens_RGB_B = np.interp(x, x_RGB, cam_B)\n"
   ]
  },
  {
   "cell_type": "code",
   "execution_count": 5,
   "metadata": {},
   "outputs": [
    {
     "name": "stdout",
     "output_type": "stream",
     "text": [
      "White point:  2754.907432227824 2905.2600332985335 3118.0681991097817\n"
     ]
    },
    {
     "data": {
      "text/plain": [
       "array([0.94824814, 1.        , 1.07324927])"
      ]
     },
     "execution_count": 5,
     "metadata": {},
     "output_type": "execute_result"
    }
   ],
   "source": [
    "# Get white point\n",
    "\n",
    "X_WHITE = np.dot(sens_XYZ_R.T, src)\n",
    "Y_WHITE = np.dot(sens_XYZ_G.T, src)\n",
    "Z_WHITE = np.dot(sens_XYZ_B.T, src)\n",
    "print(\"White point: \", X_WHITE, Y_WHITE, Z_WHITE)\n",
    "WHITE_POINT_XYZ_D65 = [X_WHITE, Y_WHITE, Z_WHITE]\n",
    "WHITE_POINT_XYZ_D65 /= Y_WHITE\n",
    "WHITE_POINT_XYZ_D65"
   ]
  },
  {
   "cell_type": "code",
   "execution_count": 15,
   "metadata": {},
   "outputs": [],
   "source": [
    "# Calculate trisitumules\n",
    "colorsXYZ = []\n",
    "for patch in patch_spectras:\n",
    "    refl = np.loadtxt(\"./patches/\" + patch)\n",
    "    X = np.dot(np.dot(sens_XYZ_R.T, D65), refl)\n",
    "    Y = np.dot(np.dot(sens_XYZ_G.T, D65), refl)\n",
    "    Z = np.dot(np.dot(sens_XYZ_B.T, D65), refl)\n",
    "    c = np.array([X, Y, Z]) / Y_WHITE\n",
    "    colorsXYZ.append(c)\n",
    "colorsXYZ = np.array(colorsXYZ)\n",
    "\n",
    "colorsRGB = []\n",
    "for patch in patch_spectras:\n",
    "    refl = np.loadtxt(\"./patches/\" + patch)\n",
    "    R = np.dot(np.dot(sens_RGB_R.T, D65), refl)\n",
    "    G = np.dot(np.dot(sens_RGB_G.T, D65), refl)\n",
    "    B = np.dot(np.dot(sens_RGB_B.T, D65), refl)\n",
    "    c = np.array([R, G, B]) / Y_WHITE\n",
    "    colorsRGB.append(c)\n",
    "colorsRGB = np.array(colorsRGB)"
   ]
  },
  {
   "cell_type": "markdown",
   "metadata": {},
   "source": [
    "Root-polinomial"
   ]
  },
  {
   "cell_type": "code",
   "execution_count": 16,
   "metadata": {
    "scrolled": true
   },
   "outputs": [
    {
     "name": "stdout",
     "output_type": "stream",
     "text": [
      "power:  1  score:  2.9219445148647085\n",
      "power:  2  score:  1.75559856750236\n",
      "power:  3  score:  3.0991345550664895\n",
      "power:  4  score:  3266.625979366528\n"
     ]
    }
   ],
   "source": [
    "# R -- RGB matrix FxN, F -- number of features, N -- objects\n",
    "# Q -- XYZ matrix 3xN\n",
    "\n",
    "\n",
    "for power in range(1, 5):\n",
    "    R = get_rp_features(colorsRGB.T, power) # returns root-poly features\n",
    "    Q = colorsXYZ.T\n",
    "    print(\"power: \", power, \" score: \", LOO(Q, R, WHITE_POINT_XYZ_D65))"
   ]
  },
  {
   "cell_type": "markdown",
   "metadata": {},
   "source": [
    "Polynomial"
   ]
  },
  {
   "cell_type": "code",
   "execution_count": 17,
   "metadata": {},
   "outputs": [
    {
     "name": "stdout",
     "output_type": "stream",
     "text": [
      "power:  1  score:  3.1271458060963275\n",
      "power:  2  score:  2.9908176074392814\n",
      "power:  3  score:  11.507637292746933\n",
      "power:  4  score:  19610.734645866378\n"
     ]
    }
   ],
   "source": [
    "from sklearn.preprocessing import PolynomialFeatures\n",
    "\n",
    "for power in range(1, 5):\n",
    "    poly = PolynomialFeatures(power)\n",
    "    R = poly.fit_transform(colorsRGB).T\n",
    "    Q = colorsXYZ.T\n",
    "    print(\"power: \", power, \" score: \", LOO(Q, R, WHITE_POINT_XYZ_D65))"
   ]
  },
  {
   "cell_type": "code",
   "execution_count": 18,
   "metadata": {},
   "outputs": [
    {
     "name": "stdout",
     "output_type": "stream",
     "text": [
      "power:  1  score:  2.9219445148647054\n",
      "power:  2  score:  2.8322044377666256\n",
      "power:  3  score:  10.84702063677562\n",
      "power:  4  score:  847.756684140318\n"
     ]
    }
   ],
   "source": [
    "for power in range(1, 5):\n",
    "    poly = PolynomialFeatures(power, include_bias=False)\n",
    "    R = poly.fit_transform(colorsRGB).T\n",
    "    Q = colorsXYZ.T\n",
    "    \n",
    "    print(\"power: \", power, \" score: \", LOO(Q, R, WHITE_POINT_XYZ_D65))"
   ]
  },
  {
   "cell_type": "code",
   "execution_count": null,
   "metadata": {},
   "outputs": [],
   "source": []
  }
 ],
 "metadata": {
  "kernelspec": {
   "display_name": "Python 3",
   "language": "python",
   "name": "python3"
  },
  "language_info": {
   "codemirror_mode": {
    "name": "ipython",
    "version": 3
   },
   "file_extension": ".py",
   "mimetype": "text/x-python",
   "name": "python",
   "nbconvert_exporter": "python",
   "pygments_lexer": "ipython3",
   "version": "3.7.4"
  }
 },
 "nbformat": 4,
 "nbformat_minor": 2
}
