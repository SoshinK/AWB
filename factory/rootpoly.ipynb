{
 "cells": [
  {
   "cell_type": "code",
   "execution_count": 1,
   "metadata": {},
   "outputs": [],
   "source": [
    "import numpy as np\n",
    "import minimg as mg\n",
    "import matplotlib.pyplot as plt\n",
    "from tqdm import tqdm_notebook\n",
    "from sklearn.linear_model import LinearRegression\n",
    "from utils import *\n",
    "%matplotlib inline\n"
   ]
  },
  {
   "cell_type": "code",
   "execution_count": null,
   "metadata": {},
   "outputs": [],
   "source": [
    "def get_rootpolyfeat(X):\n",
    "    feat = np.zeros((X.shape[0], 6))\n",
    "    feat[:,:3] = X\n",
    "    feat[:, 3] = np.sqrt(X[:, 0] * X[:, 1])\n",
    "    feat[:, 4] = np.sqrt(X[:, 1] * X[:, 2])\n",
    "    feat[:, 5] = np.sqrt(X[:, 0] * X[:, 2])\n",
    "    return feat\n",
    "\n",
    "def fit_rootpoly(X, y):\n",
    "    r_clsf = linear_model.LinearRegression()\n",
    "    g_clsf = linear_model.LinearRegression()\n",
    "    b_clsf = linear_model.LinearRegression()\n",
    "    r_clsf.fit(get_rootpolyfeat(X), y[:, 0])\n",
    "    g_clsf.fit(get_rootpolyfeat(X), y[:, 1])\n",
    "    b_clsf.fit(get_rootpolyfeat(X), y[:, 2])\n",
    "    A = np.zeros((3, 6))\n",
    "    A[0] = r_clsf.coef_\n",
    "    A[1] = g_clsf.coef_\n",
    "    A[2] = b_clsf.coef_\n",
    "    return A\n",
    "\n",
    "def predict_rootpoly(A, img):\n",
    "    img_t = img.copy()\n",
    "    h = img_t.shape[0]\n",
    "    l = img_t.shape[1]\n",
    "    img_t = np.reshape((np.dot(A, (get_rootpolyfeat(np.reshape(img_t, (h * l, 3)))).T)).T, (h, l, 3))\n",
    "    return img_t\n",
    "    "
   ]
  },
  {
   "cell_type": "code",
   "execution_count": null,
   "metadata": {},
   "outputs": [],
   "source": [
    "X = [[2, 2, 2], [1, 1, 5]]\n",
    "y = [[2, 3, 1], [1, 1, 2]]\n",
    "fit_rootpoly(np.array(X), np.array(y))"
   ]
  },
  {
   "cell_type": "code",
   "execution_count": null,
   "metadata": {
    "scrolled": true
   },
   "outputs": [],
   "source": [
    "calimg_T2_raw = np.float64(np.asarray(mg.load(\"./raw tiff/raw0081.tif\")))\n",
    "calimg_T2_gt = np.float64(np.asarray(mg.load(\"./gt tiff/gt0081.tif\")))\n",
    "\n",
    "maskT2 = np.loadtxt(\"./Canon EOS-1Ds Mark III/CHECKER/Canon1DsMkIII_0081_mask.txt\", delimiter=',')\n",
    "maskT2 *= 2 #размеры разные ¯\\_(ツ)_/¯\n",
    "\n",
    "T2 = fit_rootpoly(get_colors_from_patches(get_clrchkr(calimg_T2_raw, maskT2), maskT2),\n",
    "          get_colors_from_patches(get_clrchkr(calimg_T2_gt, maskT2), maskT2))\n",
    "\n",
    "print(\"T2:\\n\", T2)\n",
    "\n",
    "\n",
    "\n",
    "\n",
    "calimg_T1_raw = np.float64(np.asarray(mg.load(\"./raw tiff/raw0118.tif\")))\n",
    "calimg_T1_gt = np.float64(np.asarray(mg.load(\"./gt tiff/gt0118.tif\")))\n",
    "\n",
    "maskT1 = np.loadtxt(\"./Canon EOS-1Ds Mark III/CHECKER/Canon1DsMkIII_0118_mask.txt\", delimiter=',')\n",
    "maskT1 *= 2\n",
    "\n",
    "T1 = fit_rootpoly(get_colors_from_patches(get_clrchkr(calimg_T1_raw, maskT1), maskT1),\n",
    "          get_colors_from_patches(get_clrchkr(calimg_T1_gt, maskT1), maskT1))\n",
    "\n",
    "print(\"T1:\\n\", T1)"
   ]
  },
  {
   "cell_type": "code",
   "execution_count": null,
   "metadata": {},
   "outputs": [],
   "source": [
    "RAW = ['./raw tiff/raw0015.tif', './raw tiff/raw0017.tif', './raw tiff/raw0024.tif', './raw tiff/raw0031.tif', './raw tiff/raw0057.tif', \n",
    "       './raw tiff/raw0065.tif', './raw tiff/raw0081.tif', './raw tiff/raw0118.tif', './raw tiff/raw0122.tif', './raw tiff/raw0154.tif']\n",
    "GT = ['./gt tiff/gt0015.tif', './gt tiff/gt0017.tif', './gt tiff/gt0024.tif', './gt tiff/gt0031.tif', './gt tiff/gt0057.tif', \n",
    "       './gt tiff/gt0065.tif', './gt tiff/gt0081.tif', './gt tiff/gt0118.tif', './gt tiff/gt0122.tif', './gt tiff/gt0154.tif']\n",
    "CCT = [5019.4815, 5656.3593, 5341.8299, 5784.7864, 5480.2725, 3424.9495, 5864.0833, 3024.8659, 5647.4098, 4510.6519]"
   ]
  },
  {
   "cell_type": "code",
   "execution_count": null,
   "metadata": {},
   "outputs": [],
   "source": [
    "def pipeline(raw, cct, T1, T2, ccT1, ccT2):\n",
    "    g = (1 / cct - 1 / ccT2) / (1 / ccT1 - 1 / ccT2)\n",
    "    T = g * T1 + (1 - g) * T2\n",
    "    #print(T)\n",
    "    return predict_rootpoly(T, raw)    "
   ]
  },
  {
   "cell_type": "code",
   "execution_count": null,
   "metadata": {},
   "outputs": [],
   "source": [
    "mean_before = []\n",
    "mean_after = []\n",
    "\n",
    "for i in tqdm_notebook(range(len(RAW))):\n",
    "    img_raw = np.float64(np.asarray(mg.load(RAW[i])))\n",
    "    img_gt = np.float64(np.asarray(mg.load(GT[i])))\n",
    "    \n",
    "    img_transformed = pipeline(img_raw, CCT[i], T1, T2, 3024.8659, 5864.0833)\n",
    "    \n",
    "    d_after = angdiff(img_transformed, img_gt)\n",
    "    d_before = angdiff(img_raw, img_gt)\n",
    "    \n",
    "    print(\"======\\nT=\", CCT[i], \" (calibrate temps: \", 3024.8659, \", \", 5864.0833, \")\")\n",
    "    print(\"MAE before transform: \", d_before.mean(), \" max error: \", np.amax(d_before))\n",
    "    print(\"MAE after transform: \", d_after.mean(), \" max error: \", np.amax(d_after))\n",
    "    \n",
    "    mean_before.append(d_before.mean())\n",
    "    mean_after.append(d_after.mean())\n",
    "    \n",
    "    \n",
    "print(mean_after)\n",
    "print(mean_before)"
   ]
  },
  {
   "cell_type": "code",
   "execution_count": null,
   "metadata": {},
   "outputs": [],
   "source": [
    "RAW = ['./raw tiff/raw0015.tif', \n",
    "       './raw tiff/raw0017.tif', \n",
    "       './raw tiff/raw0024.tif', \n",
    "       './raw tiff/raw0031.tif', \n",
    "       './raw tiff/raw0057.tif', \n",
    "       './raw tiff/raw0065.tif', \n",
    "       #'./raw tiff/raw0081.tif', \n",
    "       './raw tiff/raw0118.tif', \n",
    "       './raw tiff/raw0122.tif', \n",
    "       './raw tiff/raw0154.tif']\n",
    "\n",
    "GT = ['./gt tiff/gt0015.tif', \n",
    "      './gt tiff/gt0017.tif', \n",
    "      './gt tiff/gt0024.tif', \n",
    "      './gt tiff/gt0031.tif', \n",
    "      './gt tiff/gt0057.tif', \n",
    "      './gt tiff/gt0065.tif', \n",
    "      #'./gt tiff/gt0081.tif', \n",
    "      './gt tiff/gt0118.tif', \n",
    "      './gt tiff/gt0122.tif', \n",
    "      './gt tiff/gt0154.tif']\n",
    "\n",
    "CCT = [5019.4815, \n",
    "       5656.3593, \n",
    "       5341.8299, \n",
    "       5784.7864,  #T2\n",
    "       5480.2725, \n",
    "       3424.9495, \n",
    "       #5864.0833, \n",
    "       3024.8659, #T1\n",
    "       5647.4098, \n",
    "       4510.6519]"
   ]
  },
  {
   "cell_type": "code",
   "execution_count": null,
   "metadata": {},
   "outputs": [],
   "source": [
    "calimg_T2_raw = np.float64(np.asarray(mg.load(\"./raw tiff/raw0031.tif\")))\n",
    "calimg_T2_gt = np.float64(np.asarray(mg.load(\"./gt tiff/gt0031.tif\")))\n",
    "\n",
    "maskT2 = np.loadtxt(\"./Canon EOS-1Ds Mark III/CHECKER/Canon1DsMkIII_0031_mask.txt\", delimiter=',')\n",
    "maskT2 *= 2 #размеры разные ¯\\_(ツ)_/¯\n",
    "\n",
    "T2 = fit_rootpoly(get_colors_from_patches(get_clrchkr(calimg_T2_raw, maskT2), maskT2),\n",
    "          get_colors_from_patches(get_clrchkr(calimg_T2_gt, maskT2), maskT2))\n",
    "\n",
    "print(\"T2:\\n\", T2)\n",
    "\n"
   ]
  },
  {
   "cell_type": "code",
   "execution_count": null,
   "metadata": {},
   "outputs": [],
   "source": [
    "mean_before = []\n",
    "mean_after = []\n",
    "\n",
    "for i in tqdm_notebook(range(len(RAW))):\n",
    "    img_raw = np.float64(np.asarray(mg.load(RAW[i])))\n",
    "    img_gt = np.float64(np.asarray(mg.load(GT[i])))\n",
    "    \n",
    "    img_transformed = pipeline(img_raw, CCT[i], T1, T2, 3024.8659, 5784.7864)\n",
    "    \n",
    "    d_after = angdiff(img_transformed, img_gt)\n",
    "    d_before = angdiff(img_raw, img_gt)\n",
    "    \n",
    "    print(\"======\\nT=\", CCT[i], \" (calibrate temps: \", 3024.8659, \", \", 5784.7864, \")\")\n",
    "    print(\"MAE before transform: \", d_before.mean(), \" max error: \", np.amax(d_before))\n",
    "    print(\"MAE after transform: \", d_after.mean(), \" max error: \", np.amax(d_after))\n",
    "    \n",
    "    mean_before.append(d_before.mean())\n",
    "    mean_after.append(d_after.mean())\n",
    "    \n",
    "    \n",
    "print(mean_after)\n",
    "print(mean_before)"
   ]
  },
  {
   "cell_type": "code",
   "execution_count": null,
   "metadata": {},
   "outputs": [],
   "source": []
  }
 ],
 "metadata": {
  "kernelspec": {
   "display_name": "Python 3",
   "language": "python",
   "name": "python3"
  },
  "language_info": {
   "codemirror_mode": {
    "name": "ipython",
    "version": 3
   },
   "file_extension": ".py",
   "mimetype": "text/x-python",
   "name": "python",
   "nbconvert_exporter": "python",
   "pygments_lexer": "ipython3",
   "version": "3.7.3"
  }
 },
 "nbformat": 4,
 "nbformat_minor": 2
}
