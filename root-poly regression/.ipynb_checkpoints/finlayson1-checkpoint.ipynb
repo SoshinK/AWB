{
 "cells": [
  {
   "cell_type": "code",
   "execution_count": 38,
   "metadata": {},
   "outputs": [],
   "source": [
    "import numpy as np\n",
    "import minimg as mg\n",
    "from sklearn.linear_model import LinearRegression\n",
    "from sklearn.model_selection import LeaveOneOut\n",
    "from utils import *\n",
    "from math import factorial\n",
    "import json\n",
    "import matplotlib.pyplot as plt\n",
    "%matplotlib inline"
   ]
  },
  {
   "cell_type": "code",
   "execution_count": 2,
   "metadata": {},
   "outputs": [],
   "source": [
    "def XYZ_to_RGB(XYZ):\n",
    "    XYZ_to_RGB = np.array([[0.41847, -0.15866, -0.082835],\n",
    "                            [-0.091169, 0.25243, 0.015708],\n",
    "                            [0.000920, -0.002549, 0.17860]])\n",
    "    return np.dot(XYZ_to_RGB, XYZ)\n",
    "\n",
    "def C_sRGB(C_lin):\n",
    "    if C_lin <= 0.0031308:\n",
    "        return 12.92 * C_lin\n",
    "    else: return 1.055 * C_lin ** (1 / 2.4) - 0.055\n",
    "\n",
    "def RGB_to_sRGB(RGB):\n",
    "    return np.array([C_sRGB(RGB[0]), C_sRGB(RGB[1]), C_sRGB(RGB[2])])\n",
    "\n",
    "def XYZ_to_LMS(XYZ):\n",
    "    XYZ_to_LMS = np.array([[0.38971, 0.68898, -0.07868],\n",
    "                          [-0.22981, 1.18340, 0.04641],\n",
    "                          [0.0, 0.0, 1.0]])\n",
    "    return np.dot(XYZ_to_LMS, XYZ)"
   ]
  },
  {
   "cell_type": "code",
   "execution_count": 60,
   "metadata": {},
   "outputs": [],
   "source": [
    "# взято из https://books.google.ru/books?id=U8jeh1uhSHgC&pg=PA167&lpg=PA167&dq=cieluv+un+vn&source=bl&ots=SV9nETcTgT&sig=ACfU3U1KpRKswHA1dO8FsjqbNdO8PxoaPg&hl=ru&sa=X&ved=2ahUKEwjI447Jo7DlAhX18KYKHSXQA5gQ6AEwAnoECAgQAQ#v=onepage&q=cieluv%20un%20vn&f=false\n",
    "XYZ_WHITE_POINT_D65_X = 95.04#0.3127\n",
    "XYZ_WHITE_POINT_D65_Y = 2905.2600332985335#100.0#0.329\n",
    "XYZ_WHITE_POINT_D65_Z = 108.89\n",
    "CIELUV_D65_u_stick_n = 0.1978\n",
    "CIELUV_D65_v_stick_n = 0.4683\n"
   ]
  },
  {
   "cell_type": "code",
   "execution_count": 61,
   "metadata": {},
   "outputs": [],
   "source": [
    "def XYZ_to_CIELUV(c):\n",
    "    L_star, u_star, v_star = 0, 0, 0\n",
    "    X, Y, Z = c[0], c[1], c[2]\n",
    "    \n",
    "    if Y / XYZ_WHITE_POINT_D65_Y <= (6 / 29) ** 3:\n",
    "        L_star = (29 / 3) ** 3 * Y / XYZ_WHITE_POINT_D65_Y\n",
    "    else:\n",
    "        L_star = 116 * (Y / XYZ_WHITE_POINT_D65_Y) ** (1 / 3) - 16\n",
    "    \n",
    "    u_stick = 4 * X / (X + 15 * Y + 3 * Z)\n",
    "    v_stick = 9 * Y / (X + 15 * Y + 3 * Z)\n",
    "    \n",
    "    u_star = 13 * L_star * (u_stick - CIELUV_D65_u_stick_n)\n",
    "    v_star = 13 * L_star * (v_stick - CIELUV_D65_v_stick_n)\n",
    "    \n",
    "    return np.array([L_star, u_star, v_star])\n",
    "\n",
    "def CIELUV_DeltaE_from_XYZ(XYZ1, XYZ2):\n",
    "    return np.linalg.norm(XYZ_to_CIELUV(XYZ1) - XYZ_to_CIELUV(XYZ2))"
   ]
  },
  {
   "cell_type": "code",
   "execution_count": 62,
   "metadata": {},
   "outputs": [],
   "source": [
    "patch_spectras = ['Dark Skin.reflect', 'Light Skin.reflect', 'Blue Sky.reflect',\n",
    "                 'Foilage.reflect', 'Blue Flower.reflect', 'Bluish Green.reflect',\n",
    "                 'Orange.reflect', 'Purplish Blue.reflect', 'Moderate Red.reflect',\n",
    "                 'Purple.reflect', 'Yellow Green.reflect', 'Orange Yellow.reflect',\n",
    "                 'Blue.reflect', 'Green.reflect', 'Red.reflect',\n",
    "                 'Yellow.reflect', 'Magenta.reflect', 'Cyan.reflect',\n",
    "                 'White.reflect', 'Neutral-8.reflect', 'Neutral-6.5.reflect',\n",
    "                 'Neutral-5.reflect', 'Neutral-3.5.reflect', 'Black.reflect']"
   ]
  },
  {
   "cell_type": "code",
   "execution_count": 63,
   "metadata": {},
   "outputs": [],
   "source": [
    "x = np.linspace(380, 780, 101)\n",
    "\n",
    "#D65 source\n",
    "src = np.loadtxt(\"./d65.illum\")\n",
    "x_src = np.linspace(300, 830, 531)\n",
    "src = np.interp(x, x_src, src)\n",
    "D65 = np.diag(src)\n",
    "\n",
    "#XYZ spectral sensitivities\n",
    "f = open('camera.kinect1.json', 'r')\n",
    "xyz_dict = json.load(f)\n",
    "XYZ_R = np.array(xyz_dict['sensitivities']['red'])[:, 1]\n",
    "XYZ_G = np.array(xyz_dict['sensitivities']['green'])[:, 1]\n",
    "XYZ_B = np.array(xyz_dict['sensitivities']['blue'])[:, 1]\n",
    "x_XYZ = np.linspace(365, 830, 94) \n",
    "sens_XYZ_R = np.interp(x, x_XYZ, XYZ_R)\n",
    "sens_XYZ_G = np.interp(x, x_XYZ, XYZ_G)\n",
    "sens_XYZ_B = np.interp(x, x_XYZ, XYZ_B)\n",
    "\n",
    "#RGB camera sensitivities\n",
    "cam_R, cam_G, cam_B = np.loadtxt(\"cam_R.spect\"), np.loadtxt(\"cam_G.spect\"), np.loadtxt(\"cam_B.spect\")\n",
    "x_RGB = np.linspace(380, 784, 101)\n",
    "sens_RGB_R = np.interp(x, x_RGB, cam_R)\n",
    "sens_RGB_G = np.interp(x, x_RGB, cam_G)\n",
    "sens_RGB_B = np.interp(x, x_RGB, cam_B)\n",
    "\n",
    "\n",
    "colorsXYZ = []\n",
    "for patch in patch_spectras:\n",
    "    refl = np.loadtxt(\"./patches/\" + patch)\n",
    "    X = np.dot(np.dot(sens_XYZ_R.T, D65), refl)\n",
    "    Y = np.dot(np.dot(sens_XYZ_G.T, D65), refl)\n",
    "    Z = np.dot(np.dot(sens_XYZ_B.T, D65), refl)\n",
    "    c = np.array([X, Y, Z])\n",
    "    colorsXYZ.append(c)\n",
    "colorsXYZ = np.array(colorsXYZ)\n",
    "\n",
    "colorsRGB = []\n",
    "for patch in patch_spectras:\n",
    "    refl = np.loadtxt(\"./patches/\" + patch)\n",
    "    R = np.dot(np.dot(sens_RGB_R.T, D65), refl)\n",
    "    G = np.dot(np.dot(sens_RGB_G.T, D65), refl)\n",
    "    B = np.dot(np.dot(sens_RGB_B.T, D65), refl)\n",
    "    c = np.array([R, G, B])\n",
    "    colorsRGB.append(c)\n",
    "colorsRGB = np.array(colorsRGB)"
   ]
  },
  {
   "cell_type": "code",
   "execution_count": 64,
   "metadata": {},
   "outputs": [],
   "source": [
    "termsP1 = np.array([[1, 0, 0], [0, 1, 0], [0, 0, 1]])\n",
    "termsP2 = np.concatenate((termsP1, np.array([[1 / 2, 1 / 2, 0], \n",
    "                                             [1 / 2, 0, 1 / 2], \n",
    "                                   [0, 1 / 2, 1 / 2]])))\n",
    "termsP3 = np.concatenate((termsP2, np.array([ [1 / 3, 2 / 3, 0], \n",
    "                                             [0, 1 / 3, 2 / 3], \n",
    "                                             [1 / 3, 0, 2 / 3], \n",
    "                                             [2 / 3, 1 / 3, 0], \n",
    "                                             [0, 2 / 3, 1 / 3], \n",
    "                                             [2 / 3, 0, 1 / 3], \n",
    "                                             [1 / 3, 1 / 3, 1 / 3] ])))\n",
    "termsP4 = np.concatenate((termsP3, np.array([ [3 / 4, 1 / 4, 0],\n",
    "                                            [3 / 4, 0, 1 / 4],\n",
    "                                            [1 / 4, 3 / 4, 0],\n",
    "                                            [0, 3 / 4, 1 / 4],\n",
    "                                            [1 / 4, 0, 3 / 4],\n",
    "                                            [0, 1 / 4, 3 / 4],\n",
    "                                            [2 / 4, 1 / 4, 1 / 4],\n",
    "                                            [1 / 4, 2 / 4, 1 / 4],\n",
    "                                            [1 / 4, 1 / 4, 2 / 4] ])))\n",
    "polyterms = np.array([termsP1, termsP2, termsP3, termsP4])"
   ]
  },
  {
   "cell_type": "code",
   "execution_count": 65,
   "metadata": {},
   "outputs": [],
   "source": [
    "#! Input:\n",
    "#!     X - array 3xN\n",
    "#!     power - power of polynoms\n",
    "#! Output:\n",
    "#!     PxN array, where P - amount of root-polynomial terms\n",
    "def get_rp_features(X, power):\n",
    "    terms = polyterms[0]\n",
    "    if power == 2: terms = polyterms[1]\n",
    "    if power == 3: terms = polyterms[2]\n",
    "    if power == 4: terms = polyterms[3]\n",
    "    features = []\n",
    "    for term in terms:\n",
    "        #print(\"term: \", term)\n",
    "        a = np.power(X.T, term)\n",
    "        #print(\"a: \", a)\n",
    "        b = np.prod(a, axis = 1)\n",
    "        #print(\"b: \", b)\n",
    "        features.append(b)\n",
    "    return np.array(features)\n",
    "\n",
    "def q_rp_features(power):\n",
    "    if power == 2: return 6\n",
    "    if power == 3: return 13\n",
    "    if power == 4: return 22\n",
    "    else: return 3"
   ]
  },
  {
   "cell_type": "code",
   "execution_count": 91,
   "metadata": {},
   "outputs": [],
   "source": [
    "power = 4"
   ]
  },
  {
   "cell_type": "code",
   "execution_count": 92,
   "metadata": {},
   "outputs": [
    {
     "name": "stdout",
     "output_type": "stream",
     "text": [
      "R shape:  (22, 24)\n",
      "Q shape:  (3, 24)\n",
      "(24, 22)\n"
     ]
    }
   ],
   "source": [
    "R = colorsRGB.T\n",
    "R = get_rp_features(R, power)\n",
    "Q = colorsXYZ.T\n",
    "print(\"R shape: \", R.shape)\n",
    "print(\"Q shape: \", Q.shape)\n",
    "\n",
    "y_r = Q[0]\n",
    "y_g = Q[1]\n",
    "y_b = Q[2]\n",
    "X = R.T\n",
    "print(X.shape)"
   ]
  },
  {
   "cell_type": "code",
   "execution_count": 93,
   "metadata": {},
   "outputs": [
    {
     "name": "stdout",
     "output_type": "stream",
     "text": [
      "=========\n",
      "gt: [318.9394091  289.27117144 205.44411305]\n",
      "pred:  [ -313.01831562    12.1874319  -3825.50980602]\n",
      "A*raw: [ -316.21534157    11.00437069 -3845.2747345 ]\n",
      "55.91924936867014\n",
      "=========\n",
      "gt: [1001.45874109  945.74111229  709.30746042]\n",
      "pred:  [2060.47653053 1410.07030786 7464.26981521]\n",
      "A*raw: [2057.72357559 1409.0819416  7447.33728027]\n",
      "210.04801544364952\n",
      "=========\n",
      "gt: [489.78028242 536.60625771 939.30494455]\n",
      "pred:  [ -7698.26292705  -3053.46516973 -51288.27524821]\n",
      "A*raw: [ -7696.48207474  -3052.46567345 -51276.28900146]\n",
      "4335.426285861833\n",
      "=========\n",
      "gt: [283.36297245 344.62853133 193.60818096]\n",
      "pred:  [ 2584.72541141  1353.66638646 14872.8835687 ]\n",
      "A*raw: [ 2584.08590508  1353.6046772  14869.43174362]\n",
      "305.1429723786758\n",
      "=========\n",
      "gt: [ 676.89070139  669.4389975  1200.66611555]\n",
      "pred:  [ 2246.54029892  1357.65650985 11212.70422016]\n",
      "A*raw: [ 2244.75096893  1357.09064865 11201.91815186]\n",
      "210.55780928078116\n",
      "=========\n",
      "gt: [ 872.95120847 1180.29327278 1194.0041255 ]\n",
      "pred:  [ 56381.46660394  25518.1850089  355256.13164971]\n",
      "A*raw: [ 56386.64264679  25520.67314911 355289.77456665]\n",
      "944.8522725279205\n",
      "=========\n",
      "gt: [999.27634865 795.87049562 211.63347314]\n",
      "pred:  [ 34313.23620461  15402.46747486 212705.30359117]\n",
      "A*raw: [ 34312.86575317  15402.52372932 212703.56774902]\n",
      "839.0197875769177\n",
      "=========\n",
      "gt: [ 380.75745584  365.4015173  1032.75991716]\n",
      "pred:  [-117064.94999729  -51128.99127438 -748096.66262603]\n",
      "A*raw: [-117095.62145996  -51142.22052002 -748291.67089844]\n",
      "69042.49570201366\n",
      "=========\n",
      "gt: [759.05026763 542.49706991 420.69895798]\n",
      "pred:  [ -34353.11500235  -14852.52111    -223542.81791826]\n",
      "A*raw: [ -34350.27268982  -14851.05622482 -223524.06109619]\n",
      "20219.514013215372\n",
      "=========\n",
      "gt: [250.61123706 203.02932777 438.36746551]\n",
      "pred:  [ -4782.90557352  -2003.92957042 -31668.0040663 ]\n",
      "A*raw: [ -4784.34420013  -2004.34165573 -31676.55332947]\n",
      "2804.9184434339695\n",
      "=========\n",
      "gt: [ 952.76198636 1173.21388798  325.80137321]\n",
      "pred:  [ -50170.13631504  -21241.75290121 -325762.45769292]\n",
      "A*raw: [ -50170.05584717  -21241.49892807 -325761.31713867]\n",
      "29036.722208002255\n",
      "=========\n",
      "gt: [1249.3971902  1126.04704323  248.16670635]\n",
      "pred:  [ -23150.89618353   -9572.32943522 -155389.52455679]\n",
      "A*raw: [ -23150.96665573   -9572.14164925 -155389.34677124]\n",
      "13289.957998277523\n",
      "=========\n",
      "gt: [227.74324156 196.62725482 782.40297931]\n",
      "pred:  [ -309360.84725753  -135543.33509242 -1973933.69060482]\n",
      "A*raw: [ -309341.05497742  -135534.43830109 -1973806.81713867]\n",
      "182652.06797939117\n",
      "=========\n",
      "gt: [448.75210787 655.6286731  293.03455874]\n",
      "pred:  [ -32329.56331399  -13716.1135699  -208784.01308412]\n",
      "A*raw: [ -32329.74694824  -13715.97540855 -208784.55725098]\n",
      "18708.90242326719\n",
      "=========\n",
      "gt: [529.71842719 336.53734171 181.61794445]\n",
      "pred:  [ -448674.91673987  -196618.48786374 -2865077.6924551 ]\n",
      "A*raw: [ -448687.24261475  -196623.67338562 -2865155.68432617]\n",
      "264899.1791612938\n",
      "=========\n",
      "gt: [1551.30984448 1598.06734834  285.99220386]\n",
      "pred:  [ 74246.7940806   33471.58950767 463975.30384741]\n",
      "A*raw: [ 74246.98979187  33471.89398193 463977.17926025]\n",
      "1115.9291113064369\n",
      "=========\n",
      "gt: [770.33560082 547.54950919 849.95598537]\n",
      "pred:  [ 21491.82027115   9632.94840918 133022.32205981]\n",
      "A*raw: [ 21491.96621323   9633.23106194 133023.87997437]\n",
      "639.9621107357348\n",
      "=========\n",
      "gt: [ 431.91096526  609.18798714 1082.80309541]\n",
      "pred:  [ 261525.33588245  115086.32568203 1666471.82604904]\n",
      "A*raw: [ 261518.82376099  115083.6891098  1666430.91577148]\n",
      "1596.63786727453\n",
      "=========\n",
      "gt: [2380.79573037 2520.09676426 2601.00944146]\n",
      "pred:  [2436.86720588 2544.68146385 2958.66223152]\n",
      "A*raw: [2438.60855865 2545.6636467  2970.39678955]\n",
      "12.265708758483315\n",
      "=========\n",
      "gt: [1579.63414989 1665.63105024 1776.7722003 ]\n",
      "pred:  [1528.12789039 1643.04799593 1448.23840158]\n",
      "A*raw: [1543.46725464 1649.99230957 1546.70825195]\n",
      "15.26247470431244\n",
      "=========\n",
      "gt: [ 985.88558922 1037.53027828 1105.80798251]\n",
      "pred:  [ 983.69144173 1036.56824895 1091.81259246]\n",
      "A*raw: [ 982.50405598 1036.26631713 1084.86604691]\n",
      "0.8308132136303827\n",
      "=========\n",
      "gt: [554.08686204 583.38131725 636.31506322]\n",
      "pred:  [551.90585402 582.42504774 622.40348166]\n",
      "A*raw: [550.5983448  582.07044601 614.69074249]\n",
      "1.1422789552728463\n",
      "=========\n",
      "gt: [272.32453864 286.37371819 307.91985194]\n",
      "pred:  [272.63198555 286.50851899 309.88091046]\n",
      "A*raw: [272.12601089 286.50535178 307.2807579 ]\n",
      "0.2373828439697366\n",
      "=========\n",
      "gt: [83.89851034 87.746245   96.32400599]\n",
      "pred:  [83.47058657 87.55862008 93.59447899]\n",
      "A*raw: [83.56878942 87.82035677 94.84809589]\n",
      "0.5767991439565028\n",
      "!mean:  25455.73203617791\n"
     ]
    }
   ],
   "source": [
    "LOO = LeaveOneOut()\n",
    "err = 0\n",
    "for train_index, test_index in LOO.split(X):\n",
    "    #print(\"TRAIN:\", train_index, \"TEST:\", test_index)\n",
    "    X_train, X_test = X[train_index], X[test_index]\n",
    "    y_r_train, y_r_test = y_r[train_index], y_r[test_index]\n",
    "    y_g_train, y_g_test = y_g[train_index], y_g[test_index]\n",
    "    y_b_train, y_b_test = y_b[train_index], y_b[test_index]\n",
    "    clsfR = LinearRegression()\n",
    "    clsfG = LinearRegression()\n",
    "    clsfB = LinearRegression()\n",
    "    clsfR.fit(X_train, y_r_train)\n",
    "    clsfG.fit(X_train, y_g_train)\n",
    "    clsfB.fit(X_train, y_b_train)\n",
    "    \n",
    "    prR = clsfR.predict(X_test)\n",
    "    prG = clsfG.predict(X_test)\n",
    "    prB = clsfB.predict(X_test)\n",
    "    \n",
    "    A = np.zeros((3, q_rp_features(power)))\n",
    "    A[0] = clsfR.coef_\n",
    "    A[1] = clsfG.coef_\n",
    "    A[2] = clsfB.coef_\n",
    "    \n",
    "    #print(A)\n",
    "    \n",
    "    pred = np.array([prR[0], prG[0], prB[0]])\n",
    "    gt = np.array([y_r_test[0], y_g_test[0], y_b_test[0],])\n",
    "    print(\"=========\")\n",
    "    print(\"gt:\", gt)\n",
    "    print(\"pred: \", pred)\n",
    "    print(\"A*raw:\", np.dot(A, X_test[0]))\n",
    "    #ang = 180 * np.arccos(np.round(np.dot(pred, gt) / np.linalg.norm(pred) / np.linalg.norm(gt), 8)) / np.pi\n",
    "    DeltaE = CIELUV_DeltaE_from_XYZ(pred, gt)\n",
    "    print(DeltaE)\n",
    "    err += DeltaE\n",
    "print(\"!mean: \", err / 24)"
   ]
  },
  {
   "cell_type": "code",
   "execution_count": 94,
   "metadata": {},
   "outputs": [
    {
     "data": {
      "text/plain": [
       "array([37.25444054,  2.23497225, -0.56662167])"
      ]
     },
     "execution_count": 94,
     "metadata": {},
     "output_type": "execute_result"
    }
   ],
   "source": [
    "a = XYZ_to_CIELUV(np.array([274.07249923, 281.11144134, 308.43766985]))\n",
    "a"
   ]
  },
  {
   "cell_type": "code",
   "execution_count": 75,
   "metadata": {},
   "outputs": [
    {
     "data": {
      "text/plain": [
       "array([37.58468789,  0.27064067,  0.49869105])"
      ]
     },
     "execution_count": 75,
     "metadata": {},
     "output_type": "execute_result"
    }
   ],
   "source": [
    "b = XYZ_to_CIELUV(np.array([272.32453864, 286.37371819, 307.91985194]))\n",
    "b"
   ]
  },
  {
   "cell_type": "markdown",
   "metadata": {},
   "source": [
    "Посчитаем координаты XYZ белой точки под D65"
   ]
  },
  {
   "cell_type": "code",
   "execution_count": 58,
   "metadata": {},
   "outputs": [
    {
     "name": "stdout",
     "output_type": "stream",
     "text": [
      "2754.907432227824 2905.2600332985335 3118.0681991097817\n"
     ]
    }
   ],
   "source": [
    "X_WHITE = np.dot(sens_XYZ_R.T, src)\n",
    "Y_WHITE = np.dot(sens_XYZ_G.T, src)\n",
    "Z_WHITE = np.dot(sens_XYZ_B.T, src)\n",
    "print(X_WHITE, Y_WHITE, Z_WHITE)"
   ]
  },
  {
   "cell_type": "code",
   "execution_count": 59,
   "metadata": {},
   "outputs": [
    {
     "name": "stdout",
     "output_type": "stream",
     "text": [
      "94.82481432479541 100.0 107.32492662867197\n"
     ]
    }
   ],
   "source": [
    "print(X_WHITE / Y_WHITE * 100, Y_WHITE / Y_WHITE * 100, Z_WHITE / Y_WHITE * 100)"
   ]
  },
  {
   "cell_type": "code",
   "execution_count": null,
   "metadata": {},
   "outputs": [],
   "source": []
  }
 ],
 "metadata": {
  "kernelspec": {
   "display_name": "Python 3",
   "language": "python",
   "name": "python3"
  },
  "language_info": {
   "codemirror_mode": {
    "name": "ipython",
    "version": 3
   },
   "file_extension": ".py",
   "mimetype": "text/x-python",
   "name": "python",
   "nbconvert_exporter": "python",
   "pygments_lexer": "ipython3",
   "version": "3.7.3"
  }
 },
 "nbformat": 4,
 "nbformat_minor": 2
}
