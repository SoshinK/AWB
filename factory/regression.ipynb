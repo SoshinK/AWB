{
 "cells": [
  {
   "cell_type": "code",
   "execution_count": 1,
   "metadata": {
    "scrolled": true
   },
   "outputs": [],
   "source": [
    "import numpy as np\n",
    "import minimg as mg\n",
    "import matplotlib.pyplot as plt\n",
    "from tqdm import tqdm_notebook\n",
    "\n",
    "from utils import *\n",
    "%matplotlib inline\n"
   ]
  },
  {
   "cell_type": "code",
   "execution_count": 2,
   "metadata": {},
   "outputs": [
    {
     "name": "stdout",
     "output_type": "stream",
     "text": [
      "T2:\n",
      " [[ 2.14452046 -0.07589909  0.09789159]\n",
      " [ 0.09577423  1.30114204 -0.4941813 ]\n",
      " [ 0.092268   -0.26003614  1.73711922]]\n",
      "T1:\n",
      " [[ 1.61007702  0.08912773 -0.00591999]\n",
      " [ 0.09393846  1.17729104 -0.52626828]\n",
      " [ 0.05396781 -0.1603709   2.57844221]]\n"
     ]
    }
   ],
   "source": [
    "calimg_T2_raw = np.float64(np.asarray(mg.load(\"./raw tiff/raw0081.tif\")))#plt.imread(\"./raw tiff/raw0081.tif\")#mg.load(\"./raw tiff/raw0081.tif\")\n",
    "calimg_T2_gt = np.float64(np.asarray(mg.load(\"./gt tiff/gt0081.tif\")))\n",
    "\n",
    "maskT2 = np.loadtxt(\"../../NUS/Canon EOS-1Ds Mark III/CHECKER/Canon1DsMkIII_0081_mask.txt\", delimiter=',')\n",
    "maskT2 *= 2 #размеры разные ¯\\_(ツ)_/¯\n",
    "\n",
    "T2 = fitA(get_colors_from_patches(get_clrchkr(calimg_T2_raw, maskT2), maskT2),\n",
    "          get_colors_from_patches(get_clrchkr(calimg_T2_gt, maskT2), maskT2))\n",
    "\n",
    "print(\"T2:\\n\", T2)\n",
    "\n",
    "calimg_T1_raw = np.float64(np.asarray(mg.load(\"./raw tiff/raw0118.tif\")))\n",
    "calimg_T1_gt = np.float64(np.asarray(mg.load(\"./gt tiff/gt0118.tif\")))\n",
    "\n",
    "maskT1 = np.loadtxt(\"../../NUS/Canon EOS-1Ds Mark III/CHECKER/Canon1DsMkIII_0118_mask.txt\", delimiter=',')\n",
    "maskT1 *= 2\n",
    "\n",
    "T1 = fitA(get_colors_from_patches(get_clrchkr(calimg_T1_raw, maskT1), maskT1),\n",
    "          get_colors_from_patches(get_clrchkr(calimg_T1_gt, maskT1), maskT1))\n",
    "\n",
    "print(\"T1:\\n\", T1)\n"
   ]
  },
  {
   "cell_type": "code",
   "execution_count": null,
   "metadata": {},
   "outputs": [],
   "source": []
  }
 ],
 "metadata": {
  "kernelspec": {
   "display_name": "Python 3",
   "language": "python",
   "name": "python3"
  },
  "language_info": {
   "codemirror_mode": {
    "name": "ipython",
    "version": 3
   },
   "file_extension": ".py",
   "mimetype": "text/x-python",
   "name": "python",
   "nbconvert_exporter": "python",
   "pygments_lexer": "ipython3",
   "version": "3.7.3"
  }
 },
 "nbformat": 4,
 "nbformat_minor": 2
}
