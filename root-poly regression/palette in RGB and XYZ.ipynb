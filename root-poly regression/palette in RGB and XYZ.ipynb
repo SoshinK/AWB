{
 "cells": [
  {
   "cell_type": "code",
   "execution_count": 9,
   "metadata": {},
   "outputs": [],
   "source": [
    "import numpy as np\n",
    "import matplotlib.pyplot as plt\n",
    "import json\n",
    "import minimg as mg\n",
    "%matplotlib inline"
   ]
  },
  {
   "cell_type": "code",
   "execution_count": 2,
   "metadata": {},
   "outputs": [],
   "source": [
    "def XYZ_to_RGB(XYZ):\n",
    "    XYZ_to_RGB = np.array([[0.41847, -0.15866, -0.082835],\n",
    "                            [-0.091169, 0.25243, 0.015708],\n",
    "                            [0.000920, -0.002549, 0.17860]])\n",
    "    return np.dot(XYZ_to_RGB, XYZ)\n",
    "\n",
    "def C_sRGB(C_lin):\n",
    "    if C_lin <= 0.0031308:\n",
    "        return 12.92 * C_lin\n",
    "    else: return 1.055 * C_lin ** (1 / 2.4) - 0.055\n",
    "\n",
    "def RGB_to_sRGB(RGB):\n",
    "    return np.array([C_sRGB(RGB[0]), C_sRGB(RGB[1]), C_sRGB(RGB[2])])\n",
    "\n",
    "def XYZ_to_LMS(XYZ):\n",
    "    XYZ_to_LMS = np.array([[0.38971, 0.68898, -0.07868],\n",
    "                          [-0.22981, 1.18340, 0.04641],\n",
    "                          [0.0, 0.0, 1.0]])\n",
    "    return np.dot(XYZ_to_LMS, XYZ)"
   ]
  },
  {
   "cell_type": "code",
   "execution_count": 22,
   "metadata": {},
   "outputs": [],
   "source": [
    "# patch_spectras = ['Black.reflect', 'Blue.reflect', 'Blue Flower.reflect',\n",
    "#                   'Blue Sky.reflect', 'Bluish Green.reflect', 'Cyan.reflect',\n",
    "#                   'Dark Skin.reflect', 'Foilage.reflect', 'Green.reflect', \n",
    "#                  'Light Skin.reflect', 'Magenta.reflect', 'Moderate Red.reflect',\n",
    "#                  'Neutral-3.5.reflect', 'Neutral-5.reflect', 'Neutral-6.5.reflect',\n",
    "#                  'Neutral-8.reflect', 'Orange.reflect', 'Orange Yellow.reflect',\n",
    "#                  'Purple.reflect', 'Purplish Blue.reflect', 'Red.reflect',\n",
    "#                  'White.reflect', 'Yellow.reflect', 'Yellow Green.reflect']\n",
    "\n",
    "patch_spectras = ['Dark Skin.reflect', 'Light Skin.reflect', 'Blue Sky.reflect',\n",
    "                 'Foilage.reflect', 'Blue Flower.reflect', 'Bluish Green.reflect',\n",
    "                 'Orange.reflect', 'Purplish Blue.reflect', 'Moderate Red.reflect',\n",
    "                 'Purple.reflect', 'Yellow Green.reflect', 'Orange Yellow.reflect',\n",
    "                 'Blue.reflect', 'Green.reflect', 'Red.reflect',\n",
    "                 'Yellow.reflect', 'Magenta.reflect', 'Cyan.reflect',\n",
    "                 'White.reflect', 'Neutral-8.reflect', 'Neutral-6.5.reflect',\n",
    "                 'Neutral-5.reflect', 'Neutral-3.5.reflect', 'Black.reflect']"
   ]
  },
  {
   "cell_type": "code",
   "execution_count": 23,
   "metadata": {},
   "outputs": [],
   "source": [
    "x = np.linspace(380, 780, 101)"
   ]
  },
  {
   "cell_type": "code",
   "execution_count": 24,
   "metadata": {
    "scrolled": false
   },
   "outputs": [],
   "source": [
    "src = np.loadtxt(\"./d65.illum\")\n",
    "x_src = np.linspace(300, 830, 531)\n",
    "src = np.interp(x, x_src, src)"
   ]
  },
  {
   "cell_type": "code",
   "execution_count": 25,
   "metadata": {},
   "outputs": [],
   "source": [
    "f = open('camera.kinect1.json', 'r')\n",
    "xyz_dict = json.load(f)\n",
    "XYZ_R = np.array(xyz_dict['sensitivities']['red'])[:, 1]\n",
    "XYZ_G = np.array(xyz_dict['sensitivities']['green'])[:, 1]\n",
    "XYZ_B = np.array(xyz_dict['sensitivities']['blue'])[:, 1]\n",
    "x_XYZ = np.linspace(365, 830, 94) \n",
    "sens_XYZ_R = np.interp(x, x_XYZ, XYZ_R)\n",
    "sens_XYZ_G = np.interp(x, x_XYZ, XYZ_G)\n",
    "sens_XYZ_B = np.interp(x, x_XYZ, XYZ_B)"
   ]
  },
  {
   "cell_type": "code",
   "execution_count": 26,
   "metadata": {},
   "outputs": [],
   "source": [
    "D65 = np.diag(src)"
   ]
  },
  {
   "cell_type": "code",
   "execution_count": 60,
   "metadata": {},
   "outputs": [
    {
     "data": {
      "text/plain": [
       "(24, 3)"
      ]
     },
     "execution_count": 60,
     "metadata": {},
     "output_type": "execute_result"
    }
   ],
   "source": [
    "colors = []\n",
    "for patch in patch_spectras:\n",
    "    refl = np.loadtxt(\"./patches/\" + patch)\n",
    "    X = np.dot(np.dot(sens_XYZ_R.T, D65), refl)\n",
    "    Y = np.dot(np.dot(sens_XYZ_G.T, D65), refl)\n",
    "    Z = np.dot(np.dot(sens_XYZ_B.T, D65), refl)\n",
    "    c = np.array([X, Y, Z])\n",
    "    c = (XYZ_to_RGB(c))\n",
    "    c = np.clip(c, 0, None)\n",
    "    c = RGB_to_sRGB(c)\n",
    "    colors.append(c)\n",
    "colors = np.array(colors)\n",
    "colors.shape"
   ]
  },
  {
   "cell_type": "code",
   "execution_count": 61,
   "metadata": {},
   "outputs": [
    {
     "name": "stdout",
     "output_type": "stream",
     "text": [
      "[ 0 ] Dark Skin.reflect\n",
      "[6.16036809 5.20051127 4.65429717]\n",
      "[ 1 ] Light Skin.reflect\n",
      "[9.74169303 8.65493505 7.83803609]\n",
      "[ 2 ] Blue Sky.reflect\n",
      "[4.95298109 7.29644384 8.84138859]\n",
      "[ 3 ] Foilage.reflect\n",
      "[5.23250678 5.92081705 4.52809818]\n",
      "[ 4 ] Blue Flower.reflect\n",
      "[6.41146679 7.86273161 9.80126181]\n",
      "[ 5 ] Bluish Green.reflect\n",
      "[ 6.46481588 10.24448442  9.75662504]\n",
      "[ 6 ] Orange.reflect\n",
      "[10.89015456  7.51156065  4.67803201]\n",
      "[ 7 ] Purplish Blue.reflect\n",
      "[3.27798784 6.27612371 9.20899838]\n",
      "[ 8 ] Moderate Red.reflect\n",
      "[9.47343049 6.29758495 6.30126157]\n",
      "[ 9 ] Purple.reflect\n",
      "[4.659711   4.60193424 6.4259385 ]\n",
      "[ 10 ] Yellow Green.reflect\n",
      "[9.24464575 9.82152837 5.59311545]\n",
      "[ 11 ] Orange Yellow.reflect\n",
      "[11.66966309  9.00366153  4.98209863]\n",
      "[ 12 ] Blue.reflect\n",
      "[0.         4.91043198 8.20070806]\n",
      "[ 13 ] Green.reflect\n",
      "[5.73415882 7.9421021  5.37769414]\n",
      "[ 14 ] Red.reflect\n",
      "[8.53147006 4.8264853  4.41980161]\n",
      "[ 15 ] Yellow.reflect\n",
      "[12.36957147 10.75767733  5.25862294]\n",
      "[ 16 ] Magenta.reflect\n",
      "[8.80215088 6.53990826 8.48184616]\n",
      "[ 17 ] Cyan.reflect\n",
      "[0.         7.9990267  9.38229643]\n",
      "[ 18 ] White.reflect\n",
      "[12.49480898 13.51922947 13.52361814]\n",
      "[ 19 ] Neutral-8.reflect\n",
      "[10.46682309 11.37357287 11.53144535]\n",
      "[ 20 ] Neutral-6.5.reflect\n",
      "[8.60382973 9.32391832 9.45404983]\n",
      "[ 21 ] Neutral-5.reflect\n",
      "[6.71443137 7.33072723 7.49888414]\n",
      "[ 22 ] Neutral-3.5.reflect\n",
      "[5.00250211 5.43143036 5.52714342]\n",
      "[ 23 ] Black.reflect\n",
      "[3.03722098 3.29562823 3.38489442]\n"
     ]
    },
    {
     "data": {
      "text/plain": [
       "<matplotlib.image.AxesImage at 0x7f58fe65db00>"
      ]
     },
     "execution_count": 61,
     "metadata": {},
     "output_type": "execute_result"
    },
    {
     "data": {
      "image/png": "[encoded data removed]",
      "text/plain": [
       "<Figure size 432x288 with 1 Axes>"
      ]
     },
     "metadata": {
      "needs_background": "light"
     },
     "output_type": "display_data"
    }
   ],
   "source": [
    "palette = np.zeros((24, 24, 3))\n",
    "for i in range(24):\n",
    "    print(\"[\", i, \"]\", patch_spectras[i])\n",
    "    print(colors[i])\n",
    "    palette[(i // 6 * 6):((i // 6 + 1) * 6), (i % 6 * 4):((i % 6 +1)*4)] = colors[i]\n",
    "\n",
    "plt.imshow(palette / np.amax(palette))\n",
    "    "
   ]
  },
  {
   "cell_type": "code",
   "execution_count": 68,
   "metadata": {},
   "outputs": [],
   "source": [
    "cam_R, cam_G, cam_B = np.loadtxt(\"cam_R.spect\"), np.loadtxt(\"cam_G.spect\"), np.loadtxt(\"cam_B.spect\")\n",
    "x_RGB = np.linspace(380, 784, 101)\n",
    "sens_RGB_R = np.interp(x, x_RGB, cam_R)\n",
    "sens_RGB_G = np.interp(x, x_RGB, cam_G)\n",
    "sens_RGB_B = np.interp(x, x_RGB, cam_B)\n"
   ]
  },
  {
   "cell_type": "code",
   "execution_count": 69,
   "metadata": {},
   "outputs": [
    {
     "data": {
      "text/plain": [
       "(24, 3)"
      ]
     },
     "execution_count": 69,
     "metadata": {},
     "output_type": "execute_result"
    }
   ],
   "source": [
    "colors = []\n",
    "for patch in patch_spectras:\n",
    "    refl = np.loadtxt(\"./patches/\" + patch)\n",
    "    X = np.dot(np.dot(sens_RGB_R.T, D65), refl)\n",
    "    Y = np.dot(np.dot(sens_RGB_G.T, D65), refl)\n",
    "    Z = np.dot(np.dot(sens_RGB_B.T, D65), refl)\n",
    "    c = np.array([X, Y, Z])\n",
    "    #c = (XYZ_to_RGB(c))\n",
    "    #c = np.clip(c, 0, None)\n",
    "    #c = RGB_to_sRGB(c)\n",
    "    colors.append(c)\n",
    "colors = np.array(colors)\n",
    "colors.shape"
   ]
  },
  {
   "cell_type": "code",
   "execution_count": 70,
   "metadata": {},
   "outputs": [
    {
     "name": "stdout",
     "output_type": "stream",
     "text": [
      "[ 0 ] Dark Skin.reflect\n",
      "[1261227.31704124 1257359.02663515 2711271.81496884]\n",
      "[ 1 ] Light Skin.reflect\n",
      "[3884665.33836925 4355968.37562025 9082659.87699223]\n",
      "[ 2 ] Blue Sky.reflect\n",
      "[ 1351638.51692041  3077484.71263596 12083366.35498545]\n",
      "[ 3 ] Foilage.reflect\n",
      "[ 981791.85238944 2071829.0774442  2441422.30756324]\n",
      "[ 4 ] Blue Flower.reflect\n",
      "[ 2055642.93216929  3525608.30164981 15390692.7347223 ]\n",
      "[ 5 ] Bluish Green.reflect\n",
      "[ 2604233.25328441  7556347.3144393  15050989.60908824]\n",
      "[ 6 ] Orange.reflect\n",
      "[4411608.18007839 2433358.61799201 2780610.7623625 ]\n",
      "[ 7 ] Purplish Blue.reflect\n",
      "[  880771.50492855  1950993.73146264 13065374.97645091]\n",
      "[ 8 ] Moderate Red.reflect\n",
      "[3144794.10331175 1623633.96241451 5563835.08151753]\n",
      "[ 9 ] Purple.reflect\n",
      "[ 766529.54941074  942738.60739046 5855394.64222898]\n",
      "[ 10 ] Yellow Green.reflect\n",
      "[3559091.66825729 6890318.2964846  3933875.79518857]\n",
      "[ 11 ] Orange Yellow.reflect\n",
      "[5287349.61797858 4414315.70447035 3180997.91986699]\n",
      "[ 12 ] Blue.reflect\n",
      "[ 421284.28398348  940589.65991343 9708371.4286307 ]\n",
      "[ 13 ] Green.reflect\n",
      "[1425703.35182236 4445077.09435988 3615802.64963691]\n",
      "[ 14 ] Red.reflect\n",
      "[2274799.1561518   824658.770143   2404563.43448242]\n",
      "[ 15 ] Yellow.reflect\n",
      "[6410020.00048866 7699034.75663823 3448188.87167538]\n",
      "[ 16 ] Magenta.reflect\n",
      "[ 2842582.20119866  1896650.59886813 11077034.13267504]\n",
      "[ 17 ] Cyan.reflect\n",
      "[  961998.38273485  4124272.40860771 13636130.70510978]\n",
      "[ 18 ] White.reflect\n",
      "[ 8173531.93808121 13278179.02579452 32516717.13548779]\n",
      "[ 19 ] Neutral-8.reflect\n",
      "[ 5390163.28352355  8775064.12247199 22526155.59253538]\n",
      "[ 20 ] Neutral-6.5.reflect\n",
      "[ 3370434.33401515  5455464.9587063  14163773.24712081]\n",
      "[ 21 ] Neutral-5.reflect\n",
      "[1882761.7826442  3077402.82437477 8225478.48354712]\n",
      "[ 22 ] Neutral-3.5.reflect\n",
      "[ 929353.7615291  1507747.7001197  4000041.29158481]\n",
      "[ 23 ] Black.reflect\n",
      "[ 285701.96344623  461207.0760565  1257804.86710426]\n"
     ]
    },
    {
     "data": {
      "text/plain": [
       "<matplotlib.image.AxesImage at 0x7f590402c198>"
      ]
     },
     "execution_count": 70,
     "metadata": {},
     "output_type": "execute_result"
    },
    {
     "data": {
      "image/png": "[encoded data removed]",
      "text/plain": [
       "<Figure size 432x288 with 1 Axes>"
      ]
     },
     "metadata": {
      "needs_background": "light"
     },
     "output_type": "display_data"
    }
   ],
   "source": [
    "palette = np.zeros((24, 24, 3))\n",
    "for i in range(24):\n",
    "    print(\"[\", i, \"]\", patch_spectras[i])\n",
    "    print(colors[i])\n",
    "    palette[(i // 6 * 6):((i // 6 + 1) * 6), (i % 6 * 4):((i % 6 +1)*4)] = colors[i]\n",
    "\n",
    "plt.imshow(palette / np.amax(palette))\n",
    "    "
   ]
  },
  {
   "cell_type": "code",
   "execution_count": null,
   "metadata": {},
   "outputs": [],
   "source": []
  },
  {
   "cell_type": "code",
   "execution_count": null,
   "metadata": {},
   "outputs": [],
   "source": []
  },
  {
   "cell_type": "code",
   "execution_count": null,
   "metadata": {},
   "outputs": [],
   "source": []
  }
 ],
 "metadata": {
  "kernelspec": {
   "display_name": "Python 3",
   "language": "python",
   "name": "python3"
  },
  "language_info": {
   "codemirror_mode": {
    "name": "ipython",
    "version": 3
   },
   "file_extension": ".py",
   "mimetype": "text/x-python",
   "name": "python",
   "nbconvert_exporter": "python",
   "pygments_lexer": "ipython3",
   "version": "3.7.4"
  }
 },
 "nbformat": 4,
 "nbformat_minor": 2
}
