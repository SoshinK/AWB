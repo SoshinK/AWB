{
 "cells": [
  {
   "cell_type": "code",
   "execution_count": 1,
   "metadata": {},
   "outputs": [],
   "source": [
    "import numpy as np\n",
    "import matplotlib.pyplot as plt\n",
    "import json\n",
    "%matplotlib inline"
   ]
  },
  {
   "cell_type": "code",
   "execution_count": 2,
   "metadata": {},
   "outputs": [],
   "source": [
    "patch_spectras = ['Black.reflect', 'Blue.reflect', 'Blue Flower.reflect',\n",
    "                  'Blue Sky.reflect', 'Bluish Green.reflect', 'Cyan.reflect',\n",
    "                  'Dark Skin.reflect', 'Foilage.reflect', 'Green.reflect', \n",
    "                 'Light Skin.reflect', 'Magenta.reflect', 'Moderate Red.reflect',\n",
    "                 'Neutral-3.5.reflect', 'Neutral-5.reflect', 'Neutral-6.5.reflect',\n",
    "                 'Neutral-8.reflect', 'Orange.reflect', 'Orange Yellow.reflect',\n",
    "                 'Purple.reflect', 'Purplish Blue.reflect', 'Red.reflect',\n",
    "                 'White.reflect', 'Yellow.reflect', 'Yellow Green.reflect']"
   ]
  },
  {
   "cell_type": "code",
   "execution_count": 59,
   "metadata": {},
   "outputs": [
    {
     "data": {
      "text/plain": [
       "(101,)"
      ]
     },
     "execution_count": 59,
     "metadata": {},
     "output_type": "execute_result"
    }
   ],
   "source": [
    "refl = np.loadtxt(\"./patches/\" + patch_spectras[21])\n",
    "x = np.linspace(380, 780, 101)\n",
    "refl.shape"
   ]
  },
  {
   "cell_type": "code",
   "execution_count": 60,
   "metadata": {},
   "outputs": [
    {
     "data": {
      "text/plain": [
       "array([ 49.9755,  51.8446,  53.7137,  60.2695,  71.5122,  82.7549,\n",
       "        86.2473,  89.7398,  91.8752,  92.6535,  93.4318,  90.732 ,\n",
       "        88.0322,  90.3188,  97.5919, 104.865 , 109.722 , 114.579 ,\n",
       "       117.169 , 117.49  , 117.812 , 116.632 , 115.451 , 115.073 ,\n",
       "       115.498 , 115.923 , 113.078 , 110.233 , 108.92  , 109.137 ,\n",
       "       109.354 , 108.733 , 108.112 , 107.2   , 105.995 , 104.79  ,\n",
       "       105.95  , 107.109 , 107.032 , 105.719 , 104.405 , 104.261 ,\n",
       "       104.118 , 103.237 , 101.618 , 100.    ,  98.5337,  97.0674,\n",
       "        96.225 ,  96.0065,  95.788 ,  92.947 ,  90.1061,  88.9497,\n",
       "        89.478 ,  90.0062,  89.8434,  89.6805,  89.219 ,  88.4589,\n",
       "        87.6987,  85.9347,  84.1706,  83.3707,  83.535 ,  83.6992,\n",
       "        82.2302,  80.7613,  80.0644,  80.1395,  80.2146,  81.0399,\n",
       "        81.8652,  81.4791,  79.8816,  78.2842,  74.859 ,  71.4339,\n",
       "        70.0989,  70.854 ,  71.6091,  72.7051,  73.801 ,  71.8   ,\n",
       "        66.702 ,  61.604 ,  64.9166,  68.2293,  70.9259,  73.0064,\n",
       "        75.087 ,  70.4893,  65.8916,  60.1578,  53.288 ,  46.4182,\n",
       "        54.5731,  62.728 ,  66.1209,  64.7518,  63.3828])"
      ]
     },
     "execution_count": 60,
     "metadata": {},
     "output_type": "execute_result"
    }
   ],
   "source": [
    "src = np.loadtxt(\"./d65.illum\")\n",
    "x_src = np.linspace(300, 830, 531)\n",
    "src = np.interp(x, x_src, src)\n",
    "src"
   ]
  },
  {
   "cell_type": "code",
   "execution_count": 61,
   "metadata": {},
   "outputs": [],
   "source": [
    "f = open('camera.kinect1.json', 'r')\n",
    "xyz_dict = json.load(f)\n",
    "XYZ_R = np.array(xyz_dict['sensitivities']['red'])[:, 1]\n",
    "XYZ_G = np.array(xyz_dict['sensitivities']['green'])[:, 1]\n",
    "XYZ_B = np.array(xyz_dict['sensitivities']['blue'])[:, 1]\n",
    "x_XYZ = np.linspace(365, 830, 94) \n",
    "sens_XYZ_R = np.interp(x, x_XYZ, XYZ_R)\n",
    "sens_XYZ_G = np.interp(x, x_XYZ, XYZ_G)\n",
    "sens_XYZ_B = np.interp(x, x_XYZ, XYZ_B)"
   ]
  },
  {
   "cell_type": "code",
   "execution_count": 62,
   "metadata": {},
   "outputs": [
    {
     "data": {
      "text/plain": [
       "array([2380.79573037, 2520.09676426, 2601.00944146])"
      ]
     },
     "execution_count": 62,
     "metadata": {},
     "output_type": "execute_result"
    }
   ],
   "source": [
    "#print(D65.shape)\n",
    "D65 = src\n",
    "R, G, B = 0, 0, 0\n",
    "for i in range(sens_XYZ_R.shape[0]):\n",
    "    R += refl[i] * D65[i] * sens_XYZ_R[i]\n",
    "    G += refl[i] * D65[i] * sens_XYZ_G[i]\n",
    "    B += refl[i] * D65[i] * sens_XYZ_B[i]\n",
    "c = np.array([R, G, B])\n",
    "c"
   ]
  },
  {
   "cell_type": "code",
   "execution_count": 63,
   "metadata": {},
   "outputs": [
    {
     "data": {
      "text/plain": [
       "array([2380.79573037, 2520.09676426, 2601.00944146])"
      ]
     },
     "execution_count": 63,
     "metadata": {},
     "output_type": "execute_result"
    }
   ],
   "source": [
    "D65 = np.diag(src)\n",
    "R = np.dot(np.dot(sens_XYZ_R.T, D65), refl)\n",
    "G = np.dot(np.dot(sens_XYZ_G.T, D65), refl)\n",
    "B = np.dot(np.dot(sens_XYZ_B.T, D65), refl)\n",
    "c = np.array([R, G, B])\n",
    "c"
   ]
  },
  {
   "cell_type": "code",
   "execution_count": 64,
   "metadata": {},
   "outputs": [
    {
     "data": {
      "text/plain": [
       "<matplotlib.image.AxesImage at 0x7f9d9994a3c8>"
      ]
     },
     "execution_count": 64,
     "metadata": {},
     "output_type": "execute_result"
    },
    {
     "data": {
      "image/png": "[encoded data removed]",
      "text/plain": [
       "<Figure size 432x288 with 1 Axes>"
      ]
     },
     "metadata": {
      "needs_background": "light"
     },
     "output_type": "display_data"
    }
   ],
   "source": [
    "a = np.zeros((5, 5, 3))\n",
    "a[:, :] = c / np.amax(c)\n",
    "plt.imshow(a)"
   ]
  },
  {
   "cell_type": "code",
   "execution_count": 65,
   "metadata": {},
   "outputs": [],
   "source": [
    "def XYZ_to_RGB(XYZ):\n",
    "    XYZ_to_RGB = np.array([[0.41847, -0.15866, -0.082835],\n",
    "                            [-0.091169, 0.25243, 0.015708],\n",
    "                            [0.000920, -0.002549, 0.17860]])\n",
    "    return np.dot(XYZ_to_RGB, XYZ)\n",
    "\n",
    "def C_sRGB(C_lin):\n",
    "    if C_lin <= 0.0031308:\n",
    "        return 12.92 * C_lin\n",
    "    else: return 1.055 * C_lin ** (1 / 2.4) - 0.055\n",
    "\n",
    "def RGB_to_sRGB(RGB):\n",
    "    return np.array([C_sRGB(RGB[0]), C_sRGB(RGB[1]), C_sRGB(RGB[2])])"
   ]
  },
  {
   "cell_type": "code",
   "execution_count": 66,
   "metadata": {},
   "outputs": [
    {
     "data": {
      "text/plain": [
       "<matplotlib.image.AxesImage at 0x7f9d99d99668>"
      ]
     },
     "execution_count": 66,
     "metadata": {},
     "output_type": "execute_result"
    },
    {
     "data": {
      "image/png": "[encoded data removed]",
      "text/plain": [
       "<Figure size 432x288 with 1 Axes>"
      ]
     },
     "metadata": {
      "needs_background": "light"
     },
     "output_type": "display_data"
    }
   ],
   "source": [
    "c = RGB_to_sRGB(c)\n",
    "a[:, :] = c / np.amax(c)\n",
    "plt.imshow(a)"
   ]
  },
  {
   "cell_type": "code",
   "execution_count": null,
   "metadata": {},
   "outputs": [],
   "source": []
  }
 ],
 "metadata": {
  "kernelspec": {
   "display_name": "Python 3",
   "language": "python",
   "name": "python3"
  },
  "language_info": {
   "codemirror_mode": {
    "name": "ipython",
    "version": 3
   },
   "file_extension": ".py",
   "mimetype": "text/x-python",
   "name": "python",
   "nbconvert_exporter": "python",
   "pygments_lexer": "ipython3",
   "version": "3.7.3"
  }
 },
 "nbformat": 4,
 "nbformat_minor": 2
}
