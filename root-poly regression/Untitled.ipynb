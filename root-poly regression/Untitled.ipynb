{
 "cells": [
  {
   "cell_type": "code",
   "execution_count": 1,
   "metadata": {},
   "outputs": [],
   "source": [
    "import numpy as np\n",
    "import json\n",
    "import matplotlib.pyplot as plt\n",
    "from cieluv import *\n",
    "from RootPolyRegression import *\n",
    "%matplotlib inline"
   ]
  },
  {
   "cell_type": "code",
   "execution_count": 90,
   "metadata": {},
   "outputs": [],
   "source": [
    "\n",
    "patch_spectras = ['Dark Skin.reflect', 'Light Skin.reflect', 'Blue Sky.reflect',\n",
    "                 'Foilage.reflect', 'Blue Flower.reflect', 'Bluish Green.reflect',\n",
    "                 'Orange.reflect', 'Purplish Blue.reflect', 'Moderate Red.reflect',\n",
    "                 'Purple.reflect', 'Yellow Green.reflect', 'Orange Yellow.reflect',\n",
    "                 'Blue.reflect', 'Green.reflect', 'Red.reflect',\n",
    "                 'Yellow.reflect', 'Magenta.reflect', 'Cyan.reflect',\n",
    "                 'White.reflect', 'Neutral-8.reflect', 'Neutral-6.5.reflect',\n",
    "                 'Neutral-5.reflect', 'Neutral-3.5.reflect', 'Black.reflect']\n",
    "#patch_spectras = ['Dark Skin.reflect', 'Light Skin.reflect', 'Blue Sky.reflect', 'Foilage.reflect', 'Blue Flower.reflect', 'Bluish Green.reflect', 'Orange.reflect']"
   ]
  },
  {
   "cell_type": "code",
   "execution_count": 11,
   "metadata": {},
   "outputs": [],
   "source": [
    "#x = np.linspace(380, 780, 101)\n",
    "x = np.linspace(380, 710, 34)\n",
    "# D65 source\n",
    "src = np.loadtxt(\"./d65.illum\")\n",
    "x_src = np.linspace(300, 830, 531)\n",
    "src = np.interp(x, x_src, src)\n",
    "D65 = np.diag(src)\n",
    "\n",
    "# XYZ spectral sensitivities\n",
    "f = open('camera.kinect1.json', 'r')\n",
    "xyz_dict = json.load(f)\n",
    "XYZ_R = np.array(xyz_dict['sensitivities']['red'])[:, 1]\n",
    "XYZ_G = np.array(xyz_dict['sensitivities']['green'])[:, 1]\n",
    "XYZ_B = np.array(xyz_dict['sensitivities']['blue'])[:, 1]\n",
    "x_XYZ = np.linspace(365, 830, 94) \n",
    "sens_XYZ_R = np.interp(x, x_XYZ, XYZ_R)\n",
    "sens_XYZ_G = np.interp(x, x_XYZ, XYZ_G)\n",
    "sens_XYZ_B = np.interp(x, x_XYZ, XYZ_B)\n",
    "\n",
    "# RGB camera sensitivities\n",
    "cam_R, cam_G, cam_B = np.loadtxt(\"cam_R.spect\"), np.loadtxt(\"cam_G.spect\"), np.loadtxt(\"cam_B.spect\")\n",
    "x_RGB = np.linspace(380, 784, 101)\n",
    "sens_RGB_R = np.interp(x, x_RGB, cam_R)\n",
    "sens_RGB_G = np.interp(x, x_RGB, cam_G)\n",
    "sens_RGB_B = np.interp(x, x_RGB, cam_B)\n"
   ]
  },
  {
   "cell_type": "code",
   "execution_count": 12,
   "metadata": {},
   "outputs": [
    {
     "name": "stdout",
     "output_type": "stream",
     "text": [
      "White point:  1101.526205260834 1161.8233618722663 1247.688746881038\n"
     ]
    },
    {
     "data": {
      "text/plain": [
       "array([0.94810127, 1.        , 1.07390571])"
      ]
     },
     "execution_count": 12,
     "metadata": {},
     "output_type": "execute_result"
    }
   ],
   "source": [
    "X_WHITE = np.dot(sens_XYZ_R.T, src)\n",
    "Y_WHITE = np.dot(sens_XYZ_G.T, src)\n",
    "Z_WHITE = np.dot(sens_XYZ_B.T, src)\n",
    "print(\"White point: \", X_WHITE, Y_WHITE, Z_WHITE)\n",
    "WHITE_POINT_XYZ_D65 = [X_WHITE, Y_WHITE, Z_WHITE]\n",
    "WHITE_POINT_XYZ_D65 /= Y_WHITE\n",
    "WHITE_POINT_XYZ_D65"
   ]
  },
  {
   "cell_type": "code",
   "execution_count": 93,
   "metadata": {},
   "outputs": [],
   "source": [
    "colorsXYZ = []\n",
    "for patch in patch_spectras:\n",
    "    refl = np.loadtxt(\"./patches/\" + patch)\n",
    "    X = np.dot(np.dot(sens_XYZ_R.T, D65), refl)\n",
    "    Y = np.dot(np.dot(sens_XYZ_G.T, D65), refl)\n",
    "    Z = np.dot(np.dot(sens_XYZ_B.T, D65), refl)\n",
    "    c = np.array([X, Y, Z]) / Y_WHITE\n",
    "    colorsXYZ.append(c)\n",
    "colorsXYZ = np.array(colorsXYZ)\n",
    "\n",
    "colorsRGB = []\n",
    "for patch in patch_spectras:\n",
    "    refl = np.loadtxt(\"./patches/\" + patch)\n",
    "    R = np.dot(np.dot(sens_RGB_R.T, D65), refl)\n",
    "    G = np.dot(np.dot(sens_RGB_G.T, D65), refl)\n",
    "    B = np.dot(np.dot(sens_RGB_B.T, D65), refl)\n",
    "    c = np.array([R, G, B]) / Y_WHITE\n",
    "    colorsRGB.append(c)\n",
    "colorsRGB = np.array(colorsRGB)"
   ]
  },
  {
   "cell_type": "code",
   "execution_count": 94,
   "metadata": {},
   "outputs": [
    {
     "data": {
      "text/plain": [
       "(6, 24)"
      ]
     },
     "execution_count": 94,
     "metadata": {},
     "output_type": "execute_result"
    }
   ],
   "source": [
    "R = get_rp_features(colorsRGB.T, 2)\n",
    "R.shape"
   ]
  },
  {
   "cell_type": "code",
   "execution_count": 17,
   "metadata": {},
   "outputs": [],
   "source": [
    "def LOO(Q, R, whitepoint):\n",
    "    err = 0\n",
    "    \n",
    "    for i in range(R.shape[1]):\n",
    "        \n",
    "        # i-ый объект на тесте, остальные на трейне\n",
    "        Q_train = np.concatenate((Q[:, :i], Q[:, (i+1):]), axis=1)\n",
    "        R_train = np.concatenate((R[:, :i], R[:, (i+1):]), axis=1)\n",
    "        Q_test = Q[:, i]\n",
    "        R_test = R[:, i]\n",
    "        \n",
    "        # fitting\n",
    "        A = np.dot(np.dot(Q_train, R_train.T), np.linalg.inv(np.dot(R_train, R_train.T)))\n",
    "        \n",
    "        # score on test object\n",
    "        err += CIELUV_DeltaE_from_XYZ(np.dot(A, R_test), Q_test, whitepoint)\n",
    "        \n",
    "    return err / 24"
   ]
  },
  {
   "cell_type": "code",
   "execution_count": 96,
   "metadata": {},
   "outputs": [
    {
     "name": "stdout",
     "output_type": "stream",
     "text": [
      "power:  1  score:  10.018095479536143\n",
      "power:  2  score:  6.0191950885795205\n",
      "power:  3  score:  10.625604188799391\n",
      "power:  4  score:  11199.86050068524\n"
     ]
    }
   ],
   "source": [
    "for power in range(1, 5):\n",
    "    R = get_rp_features(colorsRGB.T, power) # returns root-poly features\n",
    "    Q = colorsXYZ.T\n",
    "    print(\"power: \", power, \" score: \", LOO(Q, R, WHITE_POINT_XYZ_D65))"
   ]
  },
  {
   "cell_type": "code",
   "execution_count": 3,
   "metadata": {},
   "outputs": [
    {
     "data": {
      "text/plain": [
       "(140, 34)"
      ]
     },
     "execution_count": 3,
     "metadata": {},
     "output_type": "execute_result"
    }
   ],
   "source": [
    "spectra = np.loadtxt(\"ColorCheckerSG_spectra.txt\")\n",
    "spectra.shape"
   ]
  },
  {
   "cell_type": "code",
   "execution_count": 68,
   "metadata": {},
   "outputs": [],
   "source": [
    "def get_palette(colors, size):\n",
    "    h = size[0]\n",
    "    l = size[1]\n",
    "    if h * l != colors.shape[0]:\n",
    "        raise ValueError('Length of \\'colors\\' must be equal to product of elements of \\'size\\' ')\n",
    "    \n",
    "    palette = np.zeros((h * 10, l * 10, 3))\n",
    "    for i in range(colors.shape[0]):\n",
    "        palette[(i // l * 10):((i // l + 1) * 10), (i % l * 10):((i % l +1)*10)] = colors[i]\n",
    "    return palette\n"
   ]
  },
  {
   "cell_type": "code",
   "execution_count": 260,
   "metadata": {},
   "outputs": [],
   "source": [
    "colorsXYZ = []\n",
    "for i in range(spectra.shape[0]):\n",
    "    refl = spectra[i]\n",
    "    X = np.dot(np.dot(sens_XYZ_R.T, D65), refl)\n",
    "    Y = np.dot(np.dot(sens_XYZ_G.T, D65), refl)\n",
    "    Z = np.dot(np.dot(sens_XYZ_B.T, D65), refl)\n",
    "    c = np.array([X, Y, Z]) / Y_WHITE\n",
    "    colorsXYZ.append(c)\n",
    "colorsXYZ = np.array(colorsXYZ)\n",
    "\n",
    "colorsRGB = []\n",
    "for i in range(spectra.shape[0]):\n",
    "    refl = spectra[i]\n",
    "    R = np.dot(np.dot(sens_RGB_R.T, D65), refl)\n",
    "    G = np.dot(np.dot(sens_RGB_G.T, D65), refl)\n",
    "    B = np.dot(np.dot(sens_RGB_B.T, D65), refl)\n",
    "    c = np.array([R, G, B]) / Y_WHITE\n",
    "    colorsRGB.append(c)\n",
    "colorsRGB = np.array(colorsRGB)"
   ]
  },
  {
   "cell_type": "code",
   "execution_count": 258,
   "metadata": {},
   "outputs": [],
   "source": [
    "i = 0"
   ]
  },
  {
   "cell_type": "code",
   "execution_count": 266,
   "metadata": {
    "scrolled": true
   },
   "outputs": [
    {
     "name": "stdout",
     "output_type": "stream",
     "text": [
      "143\n"
     ]
    },
    {
     "data": {
      "text/plain": [
       "<matplotlib.image.AxesImage at 0x7fe9de65ddd0>"
      ]
     },
     "execution_count": 266,
     "metadata": {},
     "output_type": "execute_result"
    },
    {
     "data": {
      "image/png": "[encoded data removed]",
      "text/plain": [
       "<Figure size 432x288 with 1 Axes>"
      ]
     },
     "metadata": {
      "needs_background": "light"
     },
     "output_type": "display_data"
    }
   ],
   "source": [
    "i += 1\n",
    "print(i)\n",
    "#colorsXYZ = np.roll(colorsXYZ, -1, axis=0)\n",
    "p = get_palette(colorsXYZ, (14, 10))\n",
    "p = np.transpose(p, axes=(1,0,2))\n",
    "plt.imshow(p / np.amax(p))"
   ]
  },
  {
   "cell_type": "code",
   "execution_count": 265,
   "metadata": {},
   "outputs": [],
   "source": [
    "np.transpose?"
   ]
  },
  {
   "cell_type": "code",
   "execution_count": 179,
   "metadata": {},
   "outputs": [
    {
     "data": {
      "text/plain": [
       "<matplotlib.image.AxesImage at 0x7fe9ec60aad0>"
      ]
     },
     "execution_count": 179,
     "metadata": {},
     "output_type": "execute_result"
    },
    {
     "data": {
      "image/png": "[encoded data removed]",
      "text/plain": [
       "<Figure size 432x288 with 1 Axes>"
      ]
     },
     "metadata": {
      "needs_background": "light"
     },
     "output_type": "display_data"
    }
   ],
   "source": [
    "a = np.zeros((5, 4, 3))\n",
    "a[:, :] = [0.3, 0.2, 0.1]\n",
    "plt.imshow(np.reshape(a, (4, 5, 3)))"
   ]
  },
  {
   "cell_type": "code",
   "execution_count": 73,
   "metadata": {},
   "outputs": [
    {
     "data": {
      "text/plain": [
       "array([[4, 5],\n",
       "       [1, 2],\n",
       "       [2, 3],\n",
       "       [3, 4]])"
      ]
     },
     "execution_count": 73,
     "metadata": {},
     "output_type": "execute_result"
    }
   ],
   "source": [
    "a = np.array([[1,2], [2,3], [3, 4], [4, 5]])\n",
    "np.roll(a, 1, axis=0)"
   ]
  },
  {
   "cell_type": "code",
   "execution_count": null,
   "metadata": {},
   "outputs": [],
   "source": []
  }
 ],
 "metadata": {
  "kernelspec": {
   "display_name": "Python 3",
   "language": "python",
   "name": "python3"
  },
  "language_info": {
   "codemirror_mode": {
    "name": "ipython",
    "version": 3
   },
   "file_extension": ".py",
   "mimetype": "text/x-python",
   "name": "python",
   "nbconvert_exporter": "python",
   "pygments_lexer": "ipython3",
   "version": "3.7.4"
  }
 },
 "nbformat": 4,
 "nbformat_minor": 2
}
